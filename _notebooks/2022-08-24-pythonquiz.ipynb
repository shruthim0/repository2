{
 "cells": [
  {
   "cell_type": "markdown",
   "metadata": {},
   "source": [
    "# Python Quiz\n",
    "> Creating, describing, and answering a quiz on python and its syntax"
   ]
  },
  {
   "cell_type": "markdown",
   "metadata": {},
   "source": [
    "## First, answering the provided questions:"
   ]
  },
  {
   "cell_type": "code",
   "execution_count": 5,
   "metadata": {},
   "outputs": [
    {
     "name": "stdout",
     "output_type": "stream",
     "text": [
      "Question: Name the Python output command mentioned in this lesson?\n",
      "Answer: print()\n",
      "Question: If you see many lines of code in order, what would College Board call it?\n",
      "Answer: a sequence of code\n",
      "Question: Describe a keyword used in Python to define a function?\n",
      "Answer: def\n"
     ]
    }
   ],
   "source": [
    "\n",
    "\n",
    "def question_and_answer(prompt):   # defines question_and_answer\n",
    "    print(\"Question: \" + prompt)      # asks the question\n",
    "    msg = input()                  # the user's input/answer is taken\n",
    "    print(\"Answer: \" + msg)        # prints the user's input/answer\n",
    "\n",
    "question_and_answer(\"Name the Python output command mentioned in this lesson?\")\n",
    "question_and_answer(\"If you see many lines of code in order, what would College Board call it?\")\n",
    "question_and_answer(\"Describe a keyword used in Python to define a function?\")"
   ]
  },
  {
   "cell_type": "code",
   "execution_count": 6,
   "metadata": {},
   "outputs": [
    {
     "name": "stdout",
     "output_type": "stream",
     "text": [
      "Hello, shruthim running /usr/bin/python3\n",
      "You will be asked 3 questions.\n",
      "Question: Are you ready to take a test?\n",
      "Answer: yes\n",
      "Question: What command is used to include other functions that were previously developed?\n",
      "import is correct!\n",
      "Question: What command is used to evaluate correct or incorrect response in this example?\n",
      "if is correct!\n",
      "Question: Each 'if' command contains an '_________' to determine a true or false condition?\n",
      "expression is correct!\n",
      "shruthim you scored 3/3\n"
     ]
    }
   ],
   "source": [
    "import getpass, sys\n",
    "\n",
    "def question_with_response(prompt):    # defines question_and_answer \n",
    "    print(\"Question: \" + prompt)       # asks the question\n",
    "    msg = input()                      # the user's input/answer is taken\n",
    "    return msg                         # returns as string value\n",
    "\n",
    "questions = 3        # total number of questions\n",
    "correct = 0          # number that is initially correct (before any questions are answered)\n",
    "\n",
    "print('Hello, ' + getpass.getuser() + \" running \" + sys.executable)\n",
    "print(\"You will be asked \" + str(questions) + \" questions.\")\n",
    "question_and_answer(\"Are you ready to take a test?\")\n",
    "\n",
    "rsp = question_with_response(\"What command is used to include other functions that were previously developed?\")\n",
    "if rsp == \"import\":       # establishing if/else statement; if user's input is \"import\"\n",
    "    print(rsp + \" is correct!\")  # then it is correct\n",
    "    correct += 1                 # one point is added to number correct score\n",
    "else:\n",
    "    print(rsp + \" is incorrect!\")  # if user's input is not \"import,\" than user is incorrect\n",
    "\n",
    "rsp = question_with_response(\"What command is used to evaluate correct or incorrect response in this example?\")\n",
    "if rsp == \"if\":\n",
    "    print(rsp + \" is correct!\")\n",
    "    correct += 1\n",
    "else:\n",
    "    print(rsp + \" is incorrect!\")\n",
    "\n",
    "rsp = question_with_response(\"Each 'if' command contains an '_________' to determine a true or false condition?\")\n",
    "if rsp == \"expression\":\n",
    "    print(rsp + \" is correct!\")\n",
    "    correct += 1\n",
    "else:\n",
    "    print(rsp + \" is incorrect!\")\n",
    "\n",
    "print(getpass.getuser() + \" you scored \" + str(correct) +\"/\" + str(questions))  # print's user's score"
   ]
  },
  {
   "cell_type": "markdown",
   "metadata": {},
   "source": [
    "## Creating my own quiz (based on CollegeBoard's vocabulary):"
   ]
  },
  {
   "cell_type": "code",
   "execution_count": null,
   "metadata": {},
   "outputs": [],
   "source": [
    "print (\"Hello World\")         # image 1"
   ]
  },
  {
   "cell_type": "code",
   "execution_count": null,
   "metadata": {},
   "outputs": [],
   "source": [
    "msg = input(\"Enter a greeting: \")          #image 2\n",
    "print(msg)"
   ]
  },
  {
   "cell_type": "code",
   "execution_count": 19,
   "metadata": {},
   "outputs": [
    {
     "name": "stdout",
     "output_type": "stream",
     "text": [
      "Hello, shruthim running /usr/bin/python3\n",
      "You will be asked 5 questions!\n",
      "Question: Are you ready to take this fun test on Python syntax?\n",
      "Answer: yes\n",
      "Question: In image 1, Hello, World is what kind of text?\n",
      "static is correct!\n",
      "Question: In image 1, what is the output?\n",
      "Hello World is correct!\n",
      "Question: In image 2, because the inputs and outputs can ______, the code is _______ \n",
      "change and dynamic is correct!\n",
      "Question: The variable, msg, is then used as a _______ to the print command\n",
      "parameter is correct!\n",
      "Question: What is it grouping a sequence of commands, often used repeatedly, called?\n",
      "procedural abstraction is correct!\n",
      "shruthim you scored 5/5!!\n"
     ]
    }
   ],
   "source": [
    "import getpass, sys\n",
    "\n",
    "def question_with_response(prompt):     # defines question_and_answer\n",
    "    print(\"Question: \" + prompt)        # asks the question\n",
    "    msg = input()                       # the user's input/answer is taken\n",
    "    return msg                          # returns as string value\n",
    "\n",
    "questions = 5            # total number of questions\n",
    "correct = 0              # number that is initially correct (before any questions are answered)\n",
    "\n",
    "print('Hello, ' + getpass.getuser() + \" running \" + sys.executable)\n",
    "print(\"You will be asked \" + str(questions) + \" questions!\")\n",
    "question_and_answer(\"Are you ready to take this fun test on Python syntax?\")\n",
    "\n",
    "rsp = question_with_response (\"In image 1, Hello, World is what kind of text?\")\n",
    "if rsp == \"static\" or rsp == \"output\":      # establishing if/else statement; if user's input is \"static\" or \"output\"\n",
    "    print(rsp + \" is correct!\")       # then it is correct\n",
    "    correct += 1                      # one point is added to number correct score\n",
    "else:\n",
    "    print(rsp + \" is incorrect :(\")   # if user's input is not \"import,\" than user is incorrect\n",
    "\n",
    "rsp = question_with_response(\"In image 1, what is the output?\")\n",
    "if rsp == \"Hello World\":\n",
    "    print(rsp + \" is correct!\")\n",
    "    correct += 1\n",
    "else:\n",
    "    print(rsp + \" is incorrect :(\")\n",
    "\n",
    "rsp = question_with_response(\"In image 2, because the inputs and outputs can ______, the code is _______ \")\n",
    "if rsp == \"change and dynamic\":\n",
    "    print(rsp + \" is correct!\")\n",
    "    correct += 1\n",
    "else:\n",
    "    print(rsp + \" is incorrect :(\")\n",
    "\n",
    "rsp = question_with_response(\"The variable, msg, is then used as a _______ to the print command\")\n",
    "if rsp == \"parameter\":\n",
    "    print(rsp + \" is correct!\")\n",
    "    correct += 1\n",
    "else:\n",
    "    print(rsp + \" is incorrect :(\")\n",
    "\n",
    "rsp = question_with_response(\"What is it grouping a sequence of commands, often used repeatedly, called?\")\n",
    "if rsp == \"procedural abstraction\":\n",
    "    print(rsp + \" is correct!\")\n",
    "    correct += 1\n",
    "else:\n",
    "    print(rsp + \" is incorrect :(\")\n",
    "\n",
    "print(getpass.getuser() + \" you scored \" + str(correct) +\"/\" + str(questions) + \"!!\")     # print's user's score"
   ]
  }
 ],
 "metadata": {
  "kernelspec": {
   "display_name": "Python 3.8.10 64-bit",
   "language": "python",
   "name": "python3"
  },
  "language_info": {
   "codemirror_mode": {
    "name": "ipython",
    "version": 3
   },
   "file_extension": ".py",
   "mimetype": "text/x-python",
   "name": "python",
   "nbconvert_exporter": "python",
   "pygments_lexer": "ipython3",
   "version": "3.8.10"
  },
  "orig_nbformat": 4,
  "vscode": {
   "interpreter": {
    "hash": "31f2aee4e71d21fbe5cf8b01ff0e069b9275f58929596ceb00d14d90e3e16cd6"
   }
  }
 },
 "nbformat": 4,
 "nbformat_minor": 2
}
