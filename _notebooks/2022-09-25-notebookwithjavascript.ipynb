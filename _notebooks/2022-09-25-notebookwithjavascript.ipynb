{
 "cells": [
  {
   "cell_type": "code",
   "execution_count": null,
   "metadata": {
    "vscode": {
     "languageId": "html"
    }
   },
   "outputs": [],
   "source": [
    "<style type=\"text/css\">\n",
    "    .tg  {border-collapse:collapse;border-spacing:0;}\n",
    "    .tg td{border-color:black;border-style:solid;border-width:1px;font-family:Arial, sans-serif;font-size:14px;\n",
    "      overflow:hidden;padding:10px 5px;word-break:normal;}\n",
    "    .tg th{border-color:black;border-style:solid;border-width:1px;font-family:Arial, sans-serif;font-size:14px;\n",
    "      font-weight:normal;overflow:hidden;padding:10px 5px;word-break:normal;}\n",
    "    .tg .tg-c3ow{border-color:inherit;text-align:center;vertical-align:top}\n",
    "    .tg .tg-0pky{border-color:inherit;text-align:left;vertical-align:top}\n",
    "    </style>\n",
    "    <table class=\"tg\">\n",
    "    <thead>\n",
    "      <tr>\n",
    "        <th class=\"tg-0pky\"></th>\n",
    "        <th class=\"tg-0pky\">Description</th>\n",
    "        <th class=\"tg-0pky\">Link to Review Ticket</th>\n",
    "      </tr>\n",
    "    </thead>\n",
    "    <tbody>\n",
    "      <tr>\n",
    "        <td class=\"tg-0pky\">Week 0</td>\n",
    "        <td class=\"tg-0pky\">Tool Setup</td>\n",
    "        <td class=\"tg-0pky\"><a href=\"https://github.com/shruthim0/repository2/issues/2#issue-1345599998\"><span style=\"color:#905\">[link](https://github.com/shruthim0/repository2/issues/2#issue-1345599998)</span></a></td>\n",
    "      </tr>\n",
    "      <tr>\n",
    "        <td class=\"tg-0pky\">Week 1</td>\n",
    "        <td class=\"tg-0pky\">Intro to Python</td>\n",
    "        <td class=\"tg-c3ow\"><a href=\"https://github.com/shruthim0/repository2/issues/3#issue-1353592822\"><span style=\"color:#905\">[link](https://github.com/shruthim0/repository2/issues/3#issue-1353592822)</span></a></td>\n",
    "      </tr>\n",
    "      <tr>\n",
    "        <td class=\"tg-0pky\">Week 2</td>\n",
    "        <td class=\"tg-0pky\">Data Abstraction</td>\n",
    "        <td class=\"tg-c3ow\"></td>\n",
    "      </tr>\n",
    "      <tr>\n",
    "        <td class=\"tg-0pky\">Week 3</td>\n",
    "        <td class=\"tg-0pky\"></td>\n",
    "        <td class=\"tg-c3ow\"></td>\n",
    "      </tr>\n",
    "    </tbody>\n",
    "    </table>"
   ]
  }
 ],
 "metadata": {
  "kernelspec": {
   "display_name": "Python 3.8.10 64-bit",
   "language": "python",
   "name": "python3"
  },
  "language_info": {
   "codemirror_mode": {
    "name": "ipython",
    "version": 3
   },
   "file_extension": ".py",
   "mimetype": "text/x-python",
   "name": "python",
   "nbconvert_exporter": "python",
   "pygments_lexer": "ipython3",
   "version": "3.8.10"
  },
  "orig_nbformat": 4,
  "vscode": {
   "interpreter": {
    "hash": "916dbcbb3f70747c44a77c7bcd40155683ae19c65e1c03b4aa3499c5328201f1"
   }
  }
 },
 "nbformat": 4,
 "nbformat_minor": 2
}
