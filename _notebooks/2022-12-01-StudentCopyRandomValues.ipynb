{
 "cells": [
  {
   "attachments": {},
   "cell_type": "markdown",
   "metadata": {},
   "source": [
    "# 3.14 and 3.15\n",
    "> Here is our lesson about random values!\n",
    "\n",
    "- toc: true\n",
    "- comments: true\n",
    "- categories: [Week-13,Big-Idea-3]\n",
    "- image: /images/college-board-logo.png"
   ]
  },
  {
   "attachments": {},
   "cell_type": "markdown",
   "metadata": {},
   "source": [
    "ADD YOUR ADDITIONAL NOTES HERE:\n",
    "\n",
    "- Random Values are a number generated using a large set of numbers and a mathematical algorithm which gives equal probability to all number occuring\n",
    "- Each Result from randomization is equally likely to occur\n",
    "Using random number generation in a program means each execution may produce a different result\n",
    "- Each Result from randomization is equally likely to occur\n",
    "- Using random number generation in a program means each execution may produce a different result"
   ]
  },
  {
   "attachments": {},
   "cell_type": "markdown",
   "metadata": {},
   "source": [
    "Random values can be used in coding:\n",
    "- "
   ]
  },
  {
   "cell_type": "code",
   "execution_count": null,
   "metadata": {},
   "outputs": [],
   "source": [
    "import random\n",
    "random_number = random.randint(1,100)\n",
    "print(random_number)"
   ]
  },
  {
   "cell_type": "code",
   "execution_count": null,
   "metadata": {},
   "outputs": [],
   "source": [
    "def randomlist():\n",
    "    list = [\"apple\", \"banana\", \"cherry\", \"blueberry\"]\n",
    "    element = random.choice(list)\n",
    "    print(element)\n",
    "randomlist()"
   ]
  },
  {
   "attachments": {},
   "cell_type": "markdown",
   "metadata": {},
   "source": [
    "Real Life Examples:\n",
    "Dice Roll"
   ]
  },
  {
   "cell_type": "code",
   "execution_count": null,
   "metadata": {},
   "outputs": [],
   "source": [
    "import random\n",
    "for i in range(3):\n",
    "    roll = random.randint(1,6)\n",
    "    print(\"Roll \" + str(i + 1) + \":\" + str(roll))"
   ]
  },
  {
   "attachments": {},
   "cell_type": "markdown",
   "metadata": {},
   "source": [
    "## Challenge #1\n",
    "Write a function that will a simulate a coinflip and print the output"
   ]
  },
  {
   "cell_type": "code",
   "execution_count": null,
   "metadata": {},
   "outputs": [],
   "source": [
    "import random\n",
    "\n",
    "def coinflip():         #def function \n",
    "    randomflip = random.randint(0, 1) #picks either 0 or 1 randomly (50/50 chance of either) \n",
    "    if randomflip == 0: #assigning 0 to be heads--> if 0 is chosen then it will print, \"Heads\"\n",
    "        print(\"Heads\")\n",
    "    else:\n",
    "        if randomflip == 1: #assigning 1 to be tails--> if 1 is chosen then it will print, \"Tails\"\n",
    "            print(\"Tails\")\n",
    "\n",
    "#Tossing the coin 5 times:\n",
    "t1 = coinflip()\n",
    "t2 = coinflip()\n",
    "t3 = coinflip()\n",
    "t4 = coinflip()\n",
    "t5 = coinflip()"
   ]
  },
  {
   "attachments": {},
   "cell_type": "markdown",
   "metadata": {},
   "source": [
    "random binary to dec converter"
   ]
  },
  {
   "cell_type": "code",
   "execution_count": 2,
   "metadata": {},
   "outputs": [
    {
     "name": "stdout",
     "output_type": "stream",
     "text": [
      "Your number 204 in binary is 11001100\n"
     ]
    }
   ],
   "source": [
    "# random binary to decimal converter\n",
    "import random\n",
    "\n",
    "decimal = random.randint(1,255)\n",
    "binary = 0\n",
    "i = 0   #set initial\n",
    "num = decimal\n",
    "\n",
    "while(num > 0):\n",
    "    binary = ((num%2)*(10**i)) + binary # set binary equal to remainder of the input/2, multiplied by 10^i\n",
    "    num = int(num/2) #now number equal num/2 rounded to an integer\n",
    "    i += 1 #incriment by 1\n",
    "\n",
    "#output result       \n",
    "print(\"Your number \" + str(decimal) + \" in binary is \" + str(binary))\n"
   ]
  },
  {
   "attachments": {},
   "cell_type": "markdown",
   "metadata": {},
   "source": [
    "# 3.14"
   ]
  },
  {
   "attachments": {},
   "cell_type": "markdown",
   "metadata": {},
   "source": [
    "fill in the blanks!\n",
    "# Libraries\n",
    "Okay, so we've learned a lot of code, and all of you now can boast that you can code at least some basic programs in python. But, what about more advanced stuff? What if there's a more advanced program you don't know how to make? Do you need to make it yourself? Well, not always.\n",
    "\n",
    "You've already learned about functions that you can write to reuse in your code in previous lessons. But,there are many others who code in python just like you. So why would you do again what someone has already done, and is available for any python user?\n",
    "\n",
    "Packages allow a python user to import methods from a library, and use the methods in their code. Most package come with documentation on the different methods they entail and how to use them, and they can be found with a quick google search. methods are used with the following:\n",
    "\n",
    "#### Note: a method from a package can only be used after the import statement. \n",
    "\n",
    "Some methods are always installed, such as those with the list methods which we have previously discussed. But others require a special python keyword called import. We will learn different ways to import in Challenge 1.\n",
    "\n",
    "Sometimes we only need to import a single method from the package. We can do that with the word \"from\", followed by the package name, then the word \"import\", then the method. This will alllow you to use the method without mentioning the package's name, unlike what we did before, however other methods from that package cannot be used. To get the best of both worlds you can use \"*\".\n",
    "\n",
    "To import a method as an easier name, just do what we did first, add the word \"as\", and write the name you would like to use that package as.\n",
    "\n",
    "# Challenge 1: Basic Libraries\n",
    "1. Find a python package on the internet and import it\n",
    "2. Choose a method from the package and import only the method\n",
    "3. import the package as a more convenient name."
   ]
  },
  {
   "cell_type": "code",
   "execution_count": null,
   "metadata": {},
   "outputs": [],
   "source": [
    "import math as m\n",
    "from math import *\n",
    "from math import sqrt"
   ]
  },
  {
   "attachments": {},
   "cell_type": "markdown",
   "metadata": {},
   "source": [
    "# Challenge 2: Turtle\n",
    "Turtle is a python drawing package which allows you to draw all kinds of different shapes. It's ofter used to teach beginning python learners, but is really cool to use anywhere. Turtle employs a graphics package to display what you've done, but unfortunately it's kind of annoying to make work with vscode.\n",
    "Use: repl.it\n",
    "Click \"+ Create\", and for language, select \"Python (with Turtle)\"\n",
    "<br>\n",
    "Use: repl.it\n",
    "<br>\n",
    "Click \"+ Create\", and for language, select \"Python (with Turtle)\"\n",
    "<br>\n",
    "[Documentation](https://docs.python.org/3/library/turtle.html#turtle.pendown)<br>\n",
    "Task: Have fun with turtle! Create something that uses at least 2 lines of different lengths and 2 turns with different angles, and changes at least one setting about either the pen or canvas. Also use one command that isn't mentioned on the table below(there are a lot). Paste a screenshot of the code and the drawing from repl.it\n",
    "\n",
    "|Commands|\n",
    "|--------|\n",
    "|forward(pixels)|\n",
    "|right(degrees)|\n",
    "|left(degrees)|\n",
    "|setpos(x,y)|\n",
    "|speed(speed)|\n",
    "|pensize(size)|\n",
    "|pencolor(color)|\n",
    "Note: Color should be within quotes, like \"brown\", or \"red\""
   ]
  },
  {
   "cell_type": "code",
   "execution_count": null,
   "metadata": {},
   "outputs": [],
   "source": [
    "from turtle import *\n",
    "oogway = Turtle()"
   ]
  },
  {
   "attachments": {},
   "cell_type": "markdown",
   "metadata": {},
   "source": [
    "# Challenge 3: Math\n",
    "The math package allows for some really cool mathematical methods!<br>\n",
    "\n",
    "|methods|Action|\n",
    "|-------|------|\n",
    "|ceil(x)|returns the next higher integer (10-->10, 10.1--->11, 10.9--->11|\n",
    "|f|rounds to largest intefer less than or equal to x|\n",
    "|factorial(x)|returns factorial|\n",
    "|gcd(x,y)|returns the greatest common denominator of x and y|\n",
    "|lcm(x,y)|returns greatest least common multipe of x and y |\n",
    "\n",
    "##### Challenge: Create a program which asks for a user input of two numbers, and returns the following:\n",
    "- each number rounded up\n",
    "- each number rounded down\n",
    "- the lcm of the rounded down numbers\n",
    "- the gcf of the rounded up numbers\n",
    "- the factorial of each number\n",
    "- something else using the math package!<br>\n",
    "[Documentation](https://docs.python.org/3/library/math.html)"
   ]
  },
  {
   "cell_type": "code",
   "execution_count": 3,
   "metadata": {},
   "outputs": [
    {
     "name": "stdout",
     "output_type": "stream",
     "text": [
      "rounded up: 2 4\n",
      "rounded down: 2 4\n",
      "signs switched: 2.0\n",
      "greatest common factor of rounded #s: 2\n",
      "factorials: 2 24\n",
      "remainder of x/y: 2.0\n"
     ]
    }
   ],
   "source": [
    "from math import *\n",
    "\n",
    "x = float(input(\"Enter your first number\"))\n",
    "y = float(input(\"Enter your second number\"))\n",
    "\n",
    "def challenge(x,y):\n",
    "    rux = ceil(x)\n",
    "    ruy= ceil(y)\n",
    "    rdx = round(x)\n",
    "    rdy = round(y)\n",
    "    signswitch = copysign(x, y)\n",
    "    gcommond = gcd(rux,ruy)\n",
    "    facx = factorial(x)\n",
    "    facy = factorial(y)\n",
    "    remainder = fmod(x,y) \n",
    "    print(\"rounded up: \"+ str(rux) + \" \" + str(ruy))\n",
    "    print(\"rounded down: \"+ str(rdx) + \" \" + str(rdy))\n",
    "    print(\"signs switched: \"+ str(signswitch))\n",
    "    print(\"greatest common factor of rounded #s: \"+ str(gcommond))\n",
    "    print(\"factorials: \"+ str(facx) + \" \" + str(facy))\n",
    "    print(\"remainder of x/y: \" + str(remainder))\n",
    "challenge(x,y)"
   ]
  },
  {
   "attachments": {},
   "cell_type": "markdown",
   "metadata": {},
   "source": [
    " lcm is only in python 9 so I did signswitch() instead (it returns a float with the absolute value of x but the sign of y)"
   ]
  },
  {
   "cell_type": "code",
   "execution_count": null,
   "metadata": {},
   "outputs": [],
   "source": [
    "# datetime hw\n",
    "from datetime import *\n",
    "from random import *\n",
    "\n",
    "def numberofdaysbetween():\n",
    "    d1 = datetime.date(2023, 1, 1)\n",
    "    d2 = datetime.date(2022, 12, 14)\n",
    "    diff = d1 - d1\n",
    "    print(\"The number of days between\" + str(d1) + \" and \" + str(d2) + \" is \" + diff)\n",
    "numberofdaysbetween()\n"
   ]
  }
 ],
 "metadata": {
  "kernelspec": {
   "display_name": "Python 3",
   "language": "python",
   "name": "python3"
  },
  "language_info": {
   "codemirror_mode": {
    "name": "ipython",
    "version": 3
   },
   "file_extension": ".py",
   "mimetype": "text/x-python",
   "name": "python",
   "nbconvert_exporter": "python",
   "pygments_lexer": "ipython3",
   "version": "3.8.10 (default, Jun 22 2022, 20:18:18) \n[GCC 9.4.0]"
  },
  "orig_nbformat": 4,
  "vscode": {
   "interpreter": {
    "hash": "916dbcbb3f70747c44a77c7bcd40155683ae19c65e1c03b4aa3499c5328201f1"
   }
  }
 },
 "nbformat": 4,
 "nbformat_minor": 2
}
