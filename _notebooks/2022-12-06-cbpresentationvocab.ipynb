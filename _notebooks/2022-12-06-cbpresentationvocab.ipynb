{
 "cells": [
  {
   "cell_type": "markdown",
   "metadata": {},
   "source": [
    "# AP Prep Vocabulary"
   ]
  },
  {
   "cell_type": "markdown",
   "metadata": {},
   "source": [
    "#### All Terms"
   ]
  },
  {
   "cell_type": "markdown",
   "metadata": {},
   "source": [
    "Unit 2… Binary/Data Terms\n",
    "---------------\n",
    "Bits, Bytes, Hexadecimal / Nibbles\n",
    "Binary Numbers: Unsigned Integer, Signed Integer, Floating Point\n",
    "Binary Data Abstractions: Boolean, ASCII, Unicode, RGB\n",
    "Data Compression: Lossy, Lossless (note discussed yet)\n",
    "Unit 3… Algorithm/Programming Terms\n",
    "-------------------\n",
    "Variables, Data Types, Assignment Operators\n",
    "Managing Complexity with Variables:  Lists, 2D Lists, Dictionaries, Class\n",
    "Algorithms, Sequence, Selection, Iteration\n",
    "Expressions, Comparison Operators, Booleans Expressions and Selection, Booleans Expressions and Iteration, Truth Tables\n",
    "Characters, Strings, Length, Concatenation, Upper, Lower, Traversing Strings\n",
    "Python If, Elif, Else conditionals; Nested Selection Statements\n",
    "Python For, While loops with Range, with List\n",
    "Combining loops with conditionals to Break, Continue\n",
    "Procedural Abstraction, Python Def procedures, Parameters, Return Values (edited) "
   ]
  },
  {
   "cell_type": "markdown",
   "metadata": {},
   "source": [
    "Unit 2 \n",
    "\n",
    "- bits:\n",
    "- bytes:\n",
    "- hexadecimal/nibbles\n",
    "- binary numbers\n",
    "    - unsigted integer\n",
    "    - signed integer\n",
    "    - floating point:\n",
    "- Binary Data Abstractions\n",
    "    - Boolean\n",
    "    - ASCII\n",
    "    - Unicode\n",
    "    - RGB\n",
    "- Data Compression: \n",
    "    - Lossy\n",
    "    - Lossless\n",
    "\n",
    "Unit 3… Algorithm/Programming Terms\n",
    "- Variables\n",
    "- Data Types\n",
    "- Assignment Operators\n",
    "- Managing Complexity with Variables\n",
    "    - Lists\n",
    "    - 2D Lists\n",
    "    - Dictionaries\n",
    "    - Class\n",
    "- Algorithms\n",
    "- Sequence\n",
    "- Selection\n",
    "- Iteration\n",
    "- Expressions\n",
    "- Comparison Operators\n",
    "- Booleans Expressions and Selection\n",
    "- Booleans Expressions and Iteration\n",
    "- Truth Tables\n",
    "- Characters\n",
    "- Strings\n",
    "- Length\n",
    "- Concatenation\n",
    "- Upper\n",
    "- Lower\n",
    "- Traversing Strings\n",
    "- Python If\n",
    "- Elif\n",
    "- Else conditionals\n",
    "- Nested Selection Statements\n",
    "- Python For While loops with Range\n",
    "    - with List\n",
    "- Combining loops with conditionals to Break\n",
    "- Continue Procedural Abstraction\n",
    "- Python Def procedures\n",
    "- Parameters\n",
    "- Return Values"
   ]
  },
  {
   "cell_type": "code",
   "execution_count": null,
   "metadata": {
    "vscode": {
     "languageId": "javascript"
    }
   },
   "outputs": [],
   "source": [
    "// boolean in javascript\n",
    "\n",
    "Boolean(w > q) //true\n",
    "Boolean(w < q)  //false"
   ]
  },
  {
   "cell_type": "code",
   "execution_count": null,
   "metadata": {},
   "outputs": [],
   "source": [
    "# dictionary: curly brackets\n",
    "\n",
    "mydictionary = {\"dogies\":\"animals\"}  # defining dictionary using curly brackets\n",
    "mydictionary[\"banana\"] = \"fruit\"   #add keys and values to a dict by setting a value equal to a key, like shown\n",
    "mydictionary[\"couch\"] = \"furniture\"  #editing a value inside the dictionary\n",
    "print(mydictionary)"
   ]
  },
  {
   "cell_type": "code",
   "execution_count": null,
   "metadata": {},
   "outputs": [],
   "source": [
    "# lists\n",
    "# list: square brackets\n",
    "\n",
    "list = []\n",
    "list.append(\"flowers\")\n",
    "list.append(\"fruits\")  # appending a value to a defined list\n",
    "print(list)"
   ]
  },
  {
   "cell_type": "code",
   "execution_count": null,
   "metadata": {},
   "outputs": [],
   "source": [
    "# math functions\n",
    "number = 5  #defining the variable number\n",
    "x = number * 2  #defining a variable by using another variable\n",
    "print(number*2)  # multiplying a variable by 2\n",
    "print(x)"
   ]
  },
  {
   "cell_type": "code",
   "execution_count": null,
   "metadata": {},
   "outputs": [],
   "source": [
    "# defining variables\n",
    "\n",
    "numbervariable = 25\n",
    "stringvariable = \"i am so sleepy\"\n",
    "numberlist = [1, 2, 3, 4, 5]\n",
    "listofstrings = [\"red\", \"orange\", \"yellow\", \"green\", \"blue\"]\n",
    "israining = False\n",
    "\n",
    "print(numbervariable)\n",
    "print(stringvariable)\n",
    "print(numberlist)\n",
    "print(listofstrings)\n",
    "print(israining)"
   ]
  },
  {
   "cell_type": "code",
   "execution_count": null,
   "metadata": {},
   "outputs": [],
   "source": [
    "# sequencing\n",
    "value1 = 5\n",
    "value2 = value1 / 10 #step 1\n",
    "value3 = value2 * 2 #step 2\n",
    "value4 = value3 - 4  #step 3\n",
    "print(value4)"
   ]
  },
  {
   "cell_type": "code",
   "execution_count": null,
   "metadata": {},
   "outputs": [],
   "source": [
    "# selection and iteration\n",
    "numlist = [\"3\",\"4\",\"9\",\"76\",\"891\"]\n",
    "for x in numlist:\n",
    "    if int(x) % 3 == 0:\n",
    "        print(str(x) + \" is divisible by 3 :) \")\n",
    "        continue\n",
    "    else:\n",
    "        print(str(x) + \" is not divisible by 3 :(\")\n",
    "        continue"
   ]
  },
  {
   "cell_type": "code",
   "execution_count": null,
   "metadata": {},
   "outputs": [],
   "source": [
    "# substrings\n",
    "\n",
    "#substring = string[start:end] \n",
    "#the substring will have the characters including the index \"start\" to the character BEFORE the index \"end\"\n",
    "#len(string) will print the length of string\n",
    "\n",
    "(string) = \"hellobye\"\n",
    "print(string[0:5])\n",
    "print(string[5:8])\n",
    "print(string[0:8])\n",
    "len(string)"
   ]
  },
  {
   "cell_type": "code",
   "execution_count": null,
   "metadata": {},
   "outputs": [],
   "source": [
    "# concatenation\n",
    "\n",
    "string1 = \"butter\"\n",
    "string2 = \"fly\"\n",
    "string3 = string1 + string2\n",
    "print(string3)"
   ]
  },
  {
   "cell_type": "code",
   "execution_count": null,
   "metadata": {},
   "outputs": [],
   "source": [
    "# string length\n",
    "names = [\"cat\",\"dog\",\"racoon\",\"rabbit\"]\n",
    "\n",
    "def length(names):\n",
    "    for x in names:\n",
    "        print(x, len(str(x)))\n",
    "\n",
    "length(names)"
   ]
  }
 ],
 "metadata": {
  "kernelspec": {
   "display_name": "Python 3.8.10 64-bit",
   "language": "python",
   "name": "python3"
  },
  "language_info": {
   "codemirror_mode": {
    "name": "ipython",
    "version": 3
   },
   "file_extension": ".py",
   "mimetype": "text/x-python",
   "name": "python",
   "nbconvert_exporter": "python",
   "pygments_lexer": "ipython3",
   "version": "3.8.10"
  },
  "orig_nbformat": 4,
  "vscode": {
   "interpreter": {
    "hash": "916dbcbb3f70747c44a77c7bcd40155683ae19c65e1c03b4aa3499c5328201f1"
   }
  }
 },
 "nbformat": 4,
 "nbformat_minor": 2
}
