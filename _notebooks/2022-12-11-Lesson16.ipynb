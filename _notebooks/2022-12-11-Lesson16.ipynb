{
 "cells": [
  {
   "attachments": {},
   "cell_type": "markdown",
   "metadata": {},
   "source": [
    "# Unit 3 Section 16: Lecture Notes "
   ]
  },
  {
   "cell_type": "code",
   "execution_count": null,
   "metadata": {},
   "outputs": [],
   "source": [
    "print(\"hellow\")"
   ]
  },
  {
   "attachments": {},
   "cell_type": "markdown",
   "metadata": {},
   "source": [
    "# Objectives \n",
    "Ananya\n",
    "\n",
    "1. Understand how computers can be used to represent real-world phenomena or outcomes\n",
    "2. \n",
    "3. "
   ]
  },
  {
   "attachments": {},
   "cell_type": "markdown",
   "metadata": {},
   "source": [
    "### What are simulations?\n",
    "\n",
    "**Take notes on vocabulary terms and concepts!**\n",
    "Noor\n",
    "- **Simulations** are abstractions that mimic more complex objects or phenomenas from the real world, used for specific purposes\n",
    "    - Purposes include drawing inferences without the contraints of the real world \n",
    "- Simulations use varying sets of values to reflect the changing state of a real phenomenon\n",
    "- Often, when developing an abstract simulation, it is neccessary to remove specific deatils or simplify aspects.       \n",
    "    - Simulations can often contain bias based on which details or real-world elements were included/excluded\n",
    "- Simulations allow the formulation and redinement of hypotheses under consideration\n",
    "- Variability and randomness of the world is considered using random number generators\n",
    "- Examples: rolling dice, spinners, molecular models, analyze chemicals/reactions...\n",
    "\n",
    "### Analyzing an Example: Air-Traffic Simulator\n",
    "Shruthi\n",
    "Say we want to find out what the optimal number of aircrafts that can be in the air in one area is.\n",
    "\n",
    "- A simulation allows us to explore this question without real world contraints of money, time, safety\n",
    "    - Unfortunately we can't just fly 67 planes all at once and see what happens\n",
    "- Since the simulation won't be able to take all variables into control, it may have a bias towards one answer\n",
    "- Will not always have the same result"
   ]
  },
  {
   "attachments": {},
   "cell_type": "markdown",
   "metadata": {},
   "source": [
    "### Funtions/programs needed often when creating simulations\n",
    "Shruthi"
   ]
  },
  {
   "cell_type": "code",
   "execution_count": null,
   "metadata": {},
   "outputs": [],
   "source": [
    "import random # a module that defines a series of functions for generating or manipulating random integers\n",
    "random.choice() #returns a randomly selected element from the specified sequence\n",
    "random.choice(mylist) # returns random value from list\n",
    "random.randint(0,10) #randomly selects an integer from given range; range in this case is from 0 to 10\n",
    "random.random() #will generate a random float between 0.0 to 1."
   ]
  },
  {
   "attachments": {},
   "cell_type": "markdown",
   "metadata": {},
   "source": [
    "### Try using these functions!\n",
    "Ananya\n",
    "1. trying out functions\n",
    "    - Randomly select select a number from 1-100, assign it to be x, and print it\n",
    "        - if you have time, add a user input box !\n",
    "2. Use the template and create a function that will choose one thing from a list of clothes to throw out\n",
    "    - Bonus: Add user input. User can deciede whether they want to \"add\" clothes to their closet, or \"trash\" something from their closet. If they chose \"add,\" then from a new list of clothes, randomly select one piece to append to myclothes. If they chose \"trash\" select one item from \"myclothes\" to throw out."
   ]
  },
  {
   "cell_type": "code",
   "execution_count": null,
   "metadata": {},
   "outputs": [],
   "source": [
    "#1"
   ]
  },
  {
   "cell_type": "code",
   "execution_count": null,
   "metadata": {},
   "outputs": [],
   "source": [
    "#2\n",
    "def mycloset():\n",
    "    myclothes = [\"red shoes\", \"green pants\", \"tie\", \"belt\"]"
   ]
  },
  {
   "attachments": {},
   "cell_type": "markdown",
   "metadata": {},
   "source": [
    "# QUICK CHECK-IN:\n",
    "### With your teams discuss what could be the possible answer for the question below. Once you think you have the right answer, raise your hand and explain why you think the answer you have chosen is correct. If you get the correct answer, you get candy.\n",
    "Question: \n",
    "The following code simulates the feeding of 4 fish in an aquarium while the owner is on a 5-day trip:\n",
    "- numFish ← 4\n",
    "- foodPerDay ← 20\n",
    "- foodLeft ← 160\n",
    "- daysStarving ← 0\n",
    "\n",
    "- REPEAT 5 TIMES {\n",
    "    - foodConsumed ← numFish * foodPerDay\n",
    "    - foodLeft ← foodLeft - foodConsumed\n",
    "    - IF (foodLeft < 0) {\n",
    "        - daysStarving ← daysStarving + 1\n",
    "    - }\n",
    "- }\n",
    "\n",
    "- Why is this simulation considered an abstraction?\n",
    "Answer choices:\n",
    "- 1: It uses a conditional to execute one part of the code only when a particular condition is met.\n",
    "- 2: It uses a REPEAT loop to run the same block of code multiple times.\n",
    "- 3: It simplifies a real-world scenario into something that can be modeled in code and executed on a computer.\n",
    "- 4: It does not request input from the user or display output to the user.\n"
   ]
  },
  {
   "attachments": {},
   "cell_type": "markdown",
   "metadata": {},
   "source": [
    "### Let's look at an example: Coin Flip Simulator\n",
    "Shruthi"
   ]
  },
  {
   "cell_type": "code",
   "execution_count": null,
   "metadata": {},
   "outputs": [],
   "source": [
    "import random\n",
    "\n",
    "def coinflip():         #def function \n",
    "    randomflip = random.randint(0, 1) #picks either 0 or 1 randomly (50/50 chance of either) \n",
    "    if randomflip == 0: #assigning 0 to be heads--> if 0 is chosen then it will print, \"Heads\"\n",
    "        print(\"Heads\")\n",
    "    else:\n",
    "        if randomflip == 1: #assigning 1 to be tails--> if 1 is chosen then it will print, \"Tails\"\n",
    "            print(\"Tails\")\n",
    "\n",
    "#Tossing the coin 5 times:\n",
    "t1 = coinflip()\n",
    "t2 = coinflip()\n",
    "t3 = coinflip()\n",
    "t4 = coinflip()\n",
    "t5 = coinflip()"
   ]
  },
  {
   "attachments": {},
   "cell_type": "markdown",
   "metadata": {},
   "source": [
    "### Using Binary for Simulations \n",
    "Jiya"
   ]
  },
  {
   "cell_type": "code",
   "execution_count": null,
   "metadata": {},
   "outputs": [],
   "source": [
    "# example simulation that uses binary"
   ]
  },
  {
   "attachments": {},
   "cell_type": "markdown",
   "metadata": {},
   "source": [
    "Explanation of ^^"
   ]
  },
  {
   "attachments": {},
   "cell_type": "markdown",
   "metadata": {},
   "source": [
    "### Hacks\n",
    "Shruthi, Noor, Ananya"
   ]
  },
  {
   "attachments": {},
   "cell_type": "markdown",
   "metadata": {},
   "source": [
    "Hack #1: Create an algorithm that will flip a dice\n"
   ]
  },
  {
   "attachments": {},
   "cell_type": "markdown",
   "metadata": {},
   "source": [
    "Hack #2: Using the questions bank below, create a quiz that presents the user a random question and calculates the user's score. You can use the template below or make your own. Making your own using a loop can give you extra point. "
   ]
  },
  {
   "cell_type": "code",
   "execution_count": null,
   "metadata": {},
   "outputs": [],
   "source": [
    "questions = 4\n",
    "correct = 0\n",
    "\n",
    "\n",
    "Q1 = input()\n",
    "if Q1 == :\n",
    "    \n",
    "\n",
    "Q2 = input()\n",
    "if Q2 == :\n",
    "   \n",
    "Q3 = input()\n",
    "if Q3 == :\n",
    "   \n",
    "\n",
    "Q4 = input()\n",
    "\n",
    "\n",
    "\n",
    "\n",
    "print( \" you scored \" + str(correct) +\"/\" + str(questions))"
   ]
  },
  {
   "attachments": {},
   "cell_type": "markdown",
   "metadata": {},
   "source": [
    "Hack #3"
   ]
  },
  {
   "cell_type": "code",
   "execution_count": null,
   "metadata": {},
   "outputs": [],
   "source": []
  }
 ],
 "metadata": {
  "kernelspec": {
   "display_name": "Python 3",
   "language": "python",
   "name": "python3"
  },
  "language_info": {
   "name": "python",
   "version": "3.8.10 (default, Jun 22 2022, 20:18:18) \n[GCC 9.4.0]"
  },
  "orig_nbformat": 4,
  "vscode": {
   "interpreter": {
    "hash": "31f2aee4e71d21fbe5cf8b01ff0e069b9275f58929596ceb00d14d90e3e16cd6"
   }
  }
 },
 "nbformat": 4,
 "nbformat_minor": 2
}
