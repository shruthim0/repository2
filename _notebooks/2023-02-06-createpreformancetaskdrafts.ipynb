{
 "cells": [
  {
   "attachments": {},
   "cell_type": "markdown",
   "metadata": {},
   "source": [
    "# Create Preformance Task Drafting\n",
    "- toc: true "
   ]
  },
  {
   "cell_type": "code",
   "execution_count": 1,
   "metadata": {},
   "outputs": [
    {
     "ename": "SyntaxError",
     "evalue": "Unexpected token function",
     "output_type": "error",
     "traceback": [
      "evalmachine.<anonymous>:22",
      "async function getQuote() {",
      "      ^^^^^^^^",
      "",
      "SyntaxError: Unexpected token function",
      "    at createScript (vm.js:56:10)",
      "    at Object.runInThisContext (vm.js:97:10)",
      "    at run ([eval]:1020:15)",
      "    at onRunRequest ([eval]:864:18)",
      "    at onMessage ([eval]:828:13)",
      "    at emitTwo (events.js:106:13)",
      "    at process.emit (events.js:191:7)",
      "    at process.nextTick (internal/child_process.js:758:12)",
      "    at _combinedTickCallback (internal/process/next_tick.js:73:7)",
      "    at process._tickCallback (internal/process/next_tick.js:104:9)"
     ]
    }
   ],
   "source": [
    "const quoteContainer = document.getElementById('quote-container');\n",
    "const quoteText = document.getElementById('quote');\n",
    "const authorText = document.getElementById('author');\n",
    "const newQuoteBtn = document.getElementById('new-quote');\n",
    "const loader = document.getElementById('loader');\n",
    "\n",
    "// Show Loading\n",
    "function loading() {\n",
    "    loader.hidden = false;\n",
    "    quoteContainer.hidden = true;\n",
    "}\n",
    "\n",
    "// Hide Loading\n",
    "function complete() {\n",
    "    if (!loader.hidden) {\n",
    "        quoteContainer.hidden = false;\n",
    "        loader.hidden = true;\n",
    "    }\n",
    "}\n",
    "\n",
    "// Get Quote From API\n",
    "async function getQuote() {\n",
    "    loading();\n",
    "    const proxyUrl = 'https://whispering-tor-04671.herokuapp.com/'\n",
    "    const apiUrl = 'http://api.forismatic.com/api/1.0/?method=getQuote&lang=en&format=json';\n",
    "    try {\n",
    "        const response = await fetch(proxyUrl + apiUrl);\n",
    "        const data = await response.json();\n",
    "        // If Author is blank, add 'Unknown'\n",
    "        if (data.quoteAuthor === '') {\n",
    "            authorText.innerText = 'Unknown';\n",
    "        } else {\n",
    "            authorText.innerText = data.quoteAuthor;\n",
    "        }\n",
    "        // Reduce font size for long quotes\n",
    "        if (data.quoteText.length > 120) {\n",
    "            quoteText.classList.add('long-quote');\n",
    "        } else {\n",
    "            quoteText.classList.remove('long-quote');\n",
    "        }\n",
    "        quoteText.innerText = data.quoteText;\n",
    "        // Stop Loader, Show Quote\n",
    "        complete();\n",
    "    } catch (error) {\n",
    "        getQuote();\n",
    "    }\n",
    "}\n",
    "\n",
    "// Tweet Quote\n",
    "function tweetQuote() {\n",
    "    const quote = quoteText.innerText;\n",
    "    const author = authorText.innerText;\n",
    "}\n",
    "\n",
    "// On Load\n",
    "getQuote();"
   ]
  },
  {
   "cell_type": "code",
   "execution_count": null,
   "metadata": {},
   "outputs": [],
   "source": [
    "const options = {\n",
    "\tmethod: 'GET',\n",
    "\theaders: {\n",
    "\t\t'X-RapidAPI-Key': 'ec628c3848mshc2f96fd1e664c35p194b32jsna5ebcbef62b6',\n",
    "\t\t'X-RapidAPI-Host': 'nutrition-by-api-ninjas.p.rapidapi.com'\n",
    "\t}\n",
    "};\n",
    "\n",
    "fetch('https://nutrition-by-api-ninjas.p.rapidapi.com/v1/nutrition?query=1lb%20brisket%20with%20fries', options)\n",
    "\t.then(response => response.json())\n",
    "\t.then(response => console.log(response))\n",
    "\t.catch(err => console.error(err));"
   ]
  },
  {
   "cell_type": "code",
   "execution_count": null,
   "metadata": {},
   "outputs": [],
   "source": [
    "const axios = require(\"axios\");\n",
    "\n",
    "const options = {\n",
    "  method: 'GET',\n",
    "  url: 'https://recipe-by-api-ninjas.p.rapidapi.com/v1/recipe',\n",
    "  params: {query: 'italian wedding soup'},\n",
    "  headers: {\n",
    "    'X-RapidAPI-Key': 'ec628c3848mshc2f96fd1e664c35p194b32jsna5ebcbef62b6',\n",
    "    'X-RapidAPI-Host': 'recipe-by-api-ninjas.p.rapidapi.com'\n",
    "  }\n",
    "};\n",
    "\n",
    "axios.request(options).then(function (response) {\n",
    "\tconsole.log(response.data);\n",
    "}).catch(function (error) {\n",
    "\tconsole.error(error);\n",
    "});"
   ]
  },
  {
   "attachments": {},
   "cell_type": "markdown",
   "metadata": {},
   "source": [
    "# raw output\n",
    "\n",
    "[\n",
    "  {\n",
    "    \"title\": \"Stracciatella (Italian Wedding Soup)\",\n",
    "    \"ingredients\": \"3 1/2 c Chicken broth; homemade|1 lb Fresh spinach; wash/trim/chop|1 Egg|1 c Grated parmesan cheese; --or--|1 c Romano cheese; freshly grated|Salt and pepper; to taste\",\n",
    "    \"servings\": \"4 servings\",\n",
    "    \"instructions\": \"Bring 1 cup of the broth to a boil. Add spinach and cook until softened but still bright green. Remove spinach with a slotted spoon and set aside. Add remaining broth to pot. Bring to a boil. Meanwhile, beat egg lightly with a fork. Beat in 1/4 cup of cheese. When broth boils pour in egg mixture, stirring constantly for a few seconds until it cooks into \\\"rags.\\\" Add reserved spinach, salt and pepper. Serve immediately, passing remaining cheese. NOTES: Someone asked for this recipe a while back. I believe this soup, known as \\\"Stracciatella\\\" is synonymous with Italian Wedding Soup, however, I seem to remember from I-don't-know-where that Italian Wedding Soup is the same as this but with the addition of tiny meatballs.\"\n",
    "  },\n",
    "  {\n",
    "    \"title\": \"Italian Wedding Soup\",\n",
    "    \"ingredients\": \"1/2 lb Ground beef|1/2 lb Ground veal|1/4 c Italian seasoned bread crumb|1 Egg|1 tb Parsley|Salt and pepper to taste|4 c Chicken broth|2 c Spinach leaves cut into piec|1/4 c Grated Pecorino Romano chees\",\n",
    "    \"servings\": \"1 Servings\",\n",
    "    \"instructions\": \"Combine the ground meat, bread crumbs, egg, parsley, salt and pepper in a bowl. Mix well and form into tiny meat balls. Bake on a cookie sheet for 30 minutes at 350F. Meanwhile, bring broth to a boil and add spinach. Cover and boil for 5 minutes. Add the meatballs to the hot broth, bring to a simmer. Stir in the cheese and serve immediately. Rita in Scottsdale 01/02/92 01:41 am\"\n",
    "  },\n",
    "  {\n",
    "    \"title\": \"Stracciatella (Italian Wedding Soup)\",\n",
    "    \"ingredients\": \"1 lb Fresh spinach, washed and chopped|1 Egg|1 c Parmesan cheese, * see note|Salt, to taste|Pepper, to taste\",\n",
    "    \"servings\": \"6 Servings\",\n",
    "    \"instructions\": \"Bring 1 cup of the broth to a boil. Add spinach and cook until softened but still bright green. Remove spinach with a slotted spoon and set aside. Add remaining broth to pot. Bring to a boil. Meanwhile, beat egg lightly with a fork. Beat in 1/4 cup of cheese. When broth boils pour in egg mixture, stirring constantly for a few seconds until it cooks into \\\"rags.\\\" Add reserved spinach, salt and pepper. Serve immediately, passing remaining cheese.\"\n",
    "  },\n",
    "  {\n",
    "    \"title\": \"Italian Wedding Soup\",\n",
    "    \"ingredients\": \"2 qt Chicken stock|1 Chopped carrot|1/2 Chopped onion|1 Chopped celery|2 oz Ground meat; (or ground vegieburger can be used)|1 Egg|1 Sprig of chopped parsely\",\n",
    "    \"servings\": \"4 - 6 servin\",\n",
    "    \"instructions\": \"Bring chicken stock to a boil add the chopped carrot,celery and onion and lower heat. Combine ground meat or vegieburger, egg, and parsely, the consistancy of the mixture is kinda loose. Drop in small pieces of the meat mixture, not much larger than a Tablespoon. (making tiny meatballs.) Turn up the heat and bring to a boil,5 -7 minutes, it is ready when the little meatballs float to the surface.\"\n",
    "  }\n",
    "]"
   ]
  },
  {
   "cell_type": "code",
   "execution_count": null,
   "metadata": {},
   "outputs": [
    {
     "ename": "",
     "evalue": "",
     "output_type": "error",
     "traceback": [
      "\u001b[1;31mFailed to start the Kernel. \n",
      "\u001b[1;31mView Jupyter <a href='command:jupyter.viewOutput'>log</a> for further details."
     ]
    }
   ],
   "source": [
    "//user enters \"apple pie\"\n",
    "\n",
    "\n",
    "const axios = require(\"axios\");\n",
    "\n",
    "const options = {\n",
    "  method: 'GET',\n",
    "  url: 'https://recipe-by-api-ninjas.p.rapidapi.com/v1/recipe',\n",
    "  params: {query: 'apple pie'},\n",
    "  headers: {\n",
    "    'X-RapidAPI-Key': 'ec628c3848mshc2f96fd1e664c35p194b32jsna5ebcbef62b6',\n",
    "    'X-RapidAPI-Host': 'recipe-by-api-ninjas.p.rapidapi.com'\n",
    "  }\n",
    "};\n",
    "\n",
    "axios.request(options).then(function (response) {\n",
    "\tconsole.log(response.data);\n",
    "}).catch(function (error) {\n",
    "\tconsole.error(error);\n",
    "});"
   ]
  }
 ],
 "metadata": {
  "kernelspec": {
   "display_name": "JavaScript (Node.js)",
   "language": "javascript",
   "name": "javascript"
  },
  "language_info": {
   "codemirror_mode": {
    "name": "ipython",
    "version": 3
   },
   "file_extension": ".py",
   "mimetype": "text/x-python",
   "name": "javascript",
   "nbconvert_exporter": "python",
   "pygments_lexer": "ipython3",
   "version": "3.9.12"
  },
  "orig_nbformat": 4,
  "vscode": {
   "interpreter": {
    "hash": "bc0361caf75f44b19c844f36087d8e5be5f9b38f5e336f8f7dfa43d40cee6fd6"
   }
  }
 },
 "nbformat": 4,
 "nbformat_minor": 2
}
