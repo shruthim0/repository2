{
 "cells": [
  {
   "cell_type": "code",
   "execution_count": 23,
   "metadata": {},
   "outputs": [
    {
     "name": "stdout",
     "output_type": "stream",
     "text": [
      "[{\"title\": \"Elegant Apple Dumpling\", \"ingredients\": \"Dough:|1 c All purpose flour|1 ts Cinnamon|1/4 ts Salt|2 tb Butter|1 tb Shortening|1/4 c Apple juice or apple cider|Filling:|4 tb Butter|1/4 c Brown sugar|1/2 c Crushed gingersnaps|1/4 c Ground pecans|1 tb Grand Mariner|1 ts Cinnamon\", \"servings\": \"4 Servings\", \"instructions\": \"Mix flour, cinnamon, salt, butter and shortening until a crumbly mixture forms. Add in the juice slowly, until a smooth dough forms. Melt butter, and mix the rest of the ingredients into it. Putting it all together: Core 3/4 of an apple (preferably a Granny Smith) making sure that there is plenty of room for the filling. Roll out the dough, the thinner the better. Wrap dough around the apple. Squeeze off the excess and create leaves for the top of the apple with the extra. Bake at 350 degrees for approximately 20 minutes until dough becomes a light to golden brown. It will not get too dark so definitely keep checking on it. The dough recipe should yield enough for two apples. To make a stem for the apple use a small piece of cinnamon stick :\"}, {\"title\": \"Empanadas of Pork, Prunes and Apples\", \"ingredients\": \"6 tb Extra virgin olive oil|2 lb Boneless pork shoulder; in 1/4\\\" cubes|1 lg Spanish onion; In 1/4\\\" Dice|6 Cloves garlic; thinly sliced|2 Red Roma apples; peeled and cored and cut into 1/4\\\" half moons|8 Pitted prunes; cut into quarters|1/4 c Blanched almonds|1 ts Cinnamon|1 tb Fresh thyme leaves; chopped|2 c Dry red wine from Penedes|1 Empanada dough; (see basic recipe)\", \"servings\": \"4 Servings\", \"instructions\": \"Egg wash: 1 egg beaten with 1 tablespoon water To make filling: In a large 14inch saute pan, heat oil until smoking. Add pork pieces, onion and garlic and cook until pork is browned and onion has softened. Add apples, prunes, almonds, cinnamon and thyme leaves and continue to cook, about 20 minutes. Add red wine, bring to boil, lower heat and simmer 40 minutes. Check for seasoning and allow to cool. Preheat oven to 375 degrees F. Roll out empanada dough to 1/4inch thick and cut into 8inch circles. Place 4 tablespoons pork filling in each circle and then fold to form half moons. Crimp the closed edges with a fork. Brush with egg wash, puncture top with several holes and bake 25 to 30 minutes, until golden brown. Serve immediately.\"}, {\"title\": \"Endive and Apple Salad - Martha Stewart Living\", \"ingredients\": \"3 Canned anchovy fillets, rinsed|1/2 ts Dijon mustard|1 tb Plus 1/4 t lemon juice|Freshly ground pepper|2 tb Extra-virgin olive oil|3 Stalks celery|1 Granny Smith apple|2 Heads Belgian endive, leaves separated|Salt\", \"servings\": \"4 Servings\", \"instructions\": \"1. Chop anchovies and place in a bowl with mustard. Add 1 T of the lemon juice and pepper to taste, and mix well. Slowly whisk in the olive oil. The dressing can be made a day ahead of time, 2. Peel the celery to remove the strings. Cut each stalk into thirds and julienne. Set aside. Quarter and core the apple, but do not peel. Thinly slice each quarter and place in a serving bowl. Sprinkle remaining 3/4 t lemon juice over apples and toss to coat. 3. Julienne endive leaves. Add celery and endive to the apples and toss with dressing. Season to taste with salt and pepper. Serve immediately.\"}, {\"title\": \"Fresh Morels with Apples and Butter Noodles\", \"ingredients\": \"6 tb Butter|1 lb Fresh morels, sliced if large|1/2 c Minced shallots|3 Granny smith apples, cored and julienned with skin attached|1 Chipolte pepper, dry, minced|1 tb Flour|1/4 c Calvados|1/2 c Vegetable stock|1/2 lb Fresh pencil asparagus tips|1/2 lb Cooked lancaster butter noodles|1 ts Cracked black pepper corns|Salt to taste|1/2 c Watercress or baby mustard greens\", \"servings\": \"1 Servings\", \"instructions\": \"In a hot pan clarify butter, add mushrooms and saute 2 minutes. Add shallots saute for 2 minutes. Add apples, chipotle and flour, saute 2 minutes. Add calvados and flambe. Add stock and bring to a boil. Add asparagus, stir, add pasta, cook 3 minutes. Add black peppercorns, and salt, toss. Serve garnished with greens. Yield: 4 servings\"}, {\"title\": \"Fresh Pear and Apple Pie\", \"ingredients\": \"4 Apples (4 cups sliced)|4 Firm Pears (4 cups sliced)|2 tb Lime Juice|2/3 c Brown Sugar, firmly packed|1/4 c Cornstarch|1/2 ts Cinnamon|1/4 ts Nutmeg|2 tb Butter|Pastry for a 9 inch pie\", \"servings\": \"6 Servings\", \"instructions\": \"Preheat oven to 350 degrees Prepare pastry or thaw frozen pastry and set aside. Peel and slice apples and pears. Place in large bowl and toss with lime juice. Combine brown sugar, cornstarch, cinnamon and nutmeg in small bowl. Toss with apple and pear slices until coated. Turn into a 9x1-1/2 inch deep dish pie plate. Dot with butter. Roll out pastry for top crust. Cut slits to vent steam during baking and place over filling. Seal and flute edges. Bake at 350 degrees for 45 to 50 minutes or until crust is lightly browned.\"}, {\"title\": \"Fresh Pineapple Pie\", \"ingredients\": \"3 c Fresh pineapple; finely chopped|3 tb Cornstarch|1/2 c Sugar|1/4 ts Salt|1 Pastry for a 2 crust 9\\\" pie\", \"servings\": \"8 Servings\", \"instructions\": \"Cook pineapple until tender, and consistency of canned crushed pineapple. Drain. Mix cornstarch, sugar and salt. Add to pineapple. Cook until thick, stirring constantly. Cool. Pour into pie shell. Cover with top crust. Bake at 425F for 25 minutes. /FRUIT\"}, {\"title\": \"Fresh Pineapple Pie\", \"ingredients\": \"1 Recipe for Double Crust Pie|2/3 c Granulated sugar|1/4 c All purpose flour|4 c Peeled; cored, cubed, fresh pineapple), about 1 1/2 med.|1/2 c Snipped dried apricots|1/3 c Chopped macadamia nuts or almonds|2 tb Rum flavoring plus 2 T. water|1 ts Granulated sugar|1/8 ts Ground cinnamon|1 tb Milk\", \"servings\": \"8 Servings\", \"instructions\": \"Prepare and roll our pastry for double crust pie as directed. Line a 9 inch pie plate with half of the pastry. For filling, combine 2/3 cup sugar and the flour. Add the pineapple, apricots, nuts, and rum, then gently toss until coated. Transfer fruit mixture to the pastry-lined pie plate. Trim bottom pastry to edge of pie plate. Cut slits in the top crust. Place top crust on filling. Seal and flute edge. Combine 1 teaspoon sugar and the cinnamon. Brush top crust with milk. Sprinkle with sugar-cinnamon. Cover edge of pie with foil. Bake in a 375 oven for 25 minutes. Remove foil. Bake 20-25 minutes more or until golden. Cool pie on a wire rack. Cover and refrigerate any leftovers. Makes 8 servings.\"}, {\"title\": \"Fresh Pineapple Sauce\", \"ingredients\": \"1/4 Fresh pineapple; cored, cut in chunks|1/4 c Sugar|2 tb Dark rum|1 tb Fresh lime or lemon juice\", \"servings\": \"1 Servings\", \"instructions\": \"Puree pineapple till smooth. Add remaining ingredients and blend well. NOTES : Wonderful on sorbet or ice cream.\"}, {\"title\": \"Fresh Pineapple Slaw\", \"ingredients\": \"2 c Chopped fresh pineapple|1 md Carrot, shredded|1 md Green pepper, julienned|3 tb White wine vinegar|3 tb Unsweetened pineapple juice|1 tb Honey|1 ts Oil|2 oz Crumbled blue cheese\", \"servings\": \"6 Servings\", \"instructions\": \"1. Combine pineapple, carrot, and green pepper in a medium bowl, toss gently. Combine vinegar, and the next 3 ingredients and stir well with a wire whisk. Pour over pineapple mixture and toss. Cover and chill 1 hour. Top with blue cheese just before serving. Per serving (1/2 cup) - 90 cal.\"}, {\"title\": \"Fresh Pineapple Upside-Down Cake\", \"ingredients\": \"1/2 c Blanched whole almonds|4 tb Unsalted butter, melted, plus|9 tb Unsalted butter,; softened|1/2 c Packed brown sugar|2 tb Light corn syrup|1/2 Pineapple, peeled, cored, cut in half lengthwise and cut crosswise into 1/2-inch slices|1 1/2 c Pastry flour|3/4 c Granulated sugar|3/4 ts Baking powder|1/4 ts Baking soda|1/2 ts Salt|1/2 c Sour cream|3 lg Egg yolks|1 ts Vanilla extract\", \"servings\": \"1 Servings\", \"instructions\": \"Preheat the oven to 350 degrees. Spread the almonds on a baking sheet and toast, shaking the pan occasionally, until lightly golden, 15 to 20 minutes. Set aside to cool. Turn the oven temperature down to 325 degrees. Stir together the melted butter, brown sugar and corn syrup and evenly coat the bottom and sides of a 10-inch glass pie plate with the mixture. When the almonds are cool, arrange around the bottom rim of the pie plate, with a few in the center, gently pressing them into the brown mixture. Arrange pineapple on top. In a mixing bowl, combine the pastry flour, granulated sugar, baking powder, baking soda and salt and thoroughly mix. In another bowl, whisk together the softened butter, sour cream, egg yolks and vanilla. Add to the dry ingredients and mix with an electric mixer at medium speed about 1 1/2 minutes, scraping down the sides of the bowl occasionally, until thick and smooth. Using a spatula, spread the batter evenly over the fruit, building up the outside edges so the cake will be level when baked.\"}]\n"
     ]
    },
    {
     "ename": "TypeError",
     "evalue": "can only concatenate str (not \"list\") to str",
     "output_type": "error",
     "traceback": [
      "\u001b[0;31m---------------------------------------------------------------------------\u001b[0m",
      "\u001b[0;31mTypeError\u001b[0m                                 Traceback (most recent call last)",
      "\u001b[1;32m/home/shruthim/vscode/repository2/_notebooks/2023-02-07-pythonbackendcpt.ipynb Cell 1\u001b[0m in \u001b[0;36m<cell line: 17>\u001b[0;34m()\u001b[0m\n\u001b[1;32m     <a href='vscode-notebook-cell://wsl%2Bubuntu/home/shruthim/vscode/repository2/_notebooks/2023-02-07-pythonbackendcpt.ipynb#W1sdnNjb2RlLXJlbW90ZQ%3D%3D?line=14'>15</a>\u001b[0m json \u001b[39m=\u001b[39m response\u001b[39m.\u001b[39mjson()\n\u001b[1;32m     <a href='vscode-notebook-cell://wsl%2Bubuntu/home/shruthim/vscode/repository2/_notebooks/2023-02-07-pythonbackendcpt.ipynb#W1sdnNjb2RlLXJlbW90ZQ%3D%3D?line=16'>17</a>\u001b[0m \u001b[39mfor\u001b[39;00m x \u001b[39min\u001b[39;00m response\u001b[39m.\u001b[39mjson():\n\u001b[0;32m---> <a href='vscode-notebook-cell://wsl%2Bubuntu/home/shruthim/vscode/repository2/_notebooks/2023-02-07-pythonbackendcpt.ipynb#W1sdnNjb2RlLXJlbW90ZQ%3D%3D?line=17'>18</a>\u001b[0m \t\u001b[39mprint\u001b[39m(\u001b[39m\"\u001b[39;49m\u001b[39mtitle\u001b[39;49m\u001b[39m\"\u001b[39;49m \u001b[39m+\u001b[39;49m [\u001b[39m\"\u001b[39;49m\u001b[39mtitle\u001b[39;49m\u001b[39m\"\u001b[39;49m])\n",
      "\u001b[0;31mTypeError\u001b[0m: can only concatenate str (not \"list\") to str"
     ]
    }
   ],
   "source": [
    "import requests\n",
    "\n",
    "url = \"https://recipe-by-api-ninjas.p.rapidapi.com/v1/recipe\"\n",
    "#if user inputs \"apple\"\n",
    "\n",
    "querystring = {\"query\":\"apple\"}\n",
    "\n",
    "headers = {\n",
    "\t\"X-RapidAPI-Key\": \"ec628c3848mshc2f96fd1e664c35p194b32jsna5ebcbef62b6\",\n",
    "\t\"X-RapidAPI-Host\": \"recipe-by-api-ninjas.p.rapidapi.com\"\n",
    "}\n",
    "\n",
    "response = requests.request(\"GET\", url, headers=headers, params=querystring)\n",
    "print(response.text)\n",
    "json = response.json()\n",
    "\n",
    "for x in response.json():\n",
    "\tprint(\"title\" + [\"title\"]) "
   ]
  },
  {
   "cell_type": "code",
   "execution_count": 19,
   "metadata": {},
   "outputs": [
    {
     "name": "stdout",
     "output_type": "stream",
     "text": [
      "[{\"title\": \"Elegant Apple Dumpling\", \"ingredients\": \"Dough:|1 c All purpose flour|1 ts Cinnamon|1/4 ts Salt|2 tb Butter|1 tb Shortening|1/4 c Apple juice or apple cider|Filling:|4 tb Butter|1/4 c Brown sugar|1/2 c Crushed gingersnaps|1/4 c Ground pecans|1 tb Grand Mariner|1 ts Cinnamon\", \"servings\": \"4 Servings\", \"instructions\": \"Mix flour, cinnamon, salt, butter and shortening until a crumbly mixture forms. Add in the juice slowly, until a smooth dough forms. Melt butter, and mix the rest of the ingredients into it. Putting it all together: Core 3/4 of an apple (preferably a Granny Smith) making sure that there is plenty of room for the filling. Roll out the dough, the thinner the better. Wrap dough around the apple. Squeeze off the excess and create leaves for the top of the apple with the extra. Bake at 350 degrees for approximately 20 minutes until dough becomes a light to golden brown. It will not get too dark so definitely keep checking on it. The dough recipe should yield enough for two apples. To make a stem for the apple use a small piece of cinnamon stick :\"}, {\"title\": \"Empanadas of Pork, Prunes and Apples\", \"ingredients\": \"6 tb Extra virgin olive oil|2 lb Boneless pork shoulder; in 1/4\\\" cubes|1 lg Spanish onion; In 1/4\\\" Dice|6 Cloves garlic; thinly sliced|2 Red Roma apples; peeled and cored and cut into 1/4\\\" half moons|8 Pitted prunes; cut into quarters|1/4 c Blanched almonds|1 ts Cinnamon|1 tb Fresh thyme leaves; chopped|2 c Dry red wine from Penedes|1 Empanada dough; (see basic recipe)\", \"servings\": \"4 Servings\", \"instructions\": \"Egg wash: 1 egg beaten with 1 tablespoon water To make filling: In a large 14inch saute pan, heat oil until smoking. Add pork pieces, onion and garlic and cook until pork is browned and onion has softened. Add apples, prunes, almonds, cinnamon and thyme leaves and continue to cook, about 20 minutes. Add red wine, bring to boil, lower heat and simmer 40 minutes. Check for seasoning and allow to cool. Preheat oven to 375 degrees F. Roll out empanada dough to 1/4inch thick and cut into 8inch circles. Place 4 tablespoons pork filling in each circle and then fold to form half moons. Crimp the closed edges with a fork. Brush with egg wash, puncture top with several holes and bake 25 to 30 minutes, until golden brown. Serve immediately.\"}, {\"title\": \"Endive and Apple Salad - Martha Stewart Living\", \"ingredients\": \"3 Canned anchovy fillets, rinsed|1/2 ts Dijon mustard|1 tb Plus 1/4 t lemon juice|Freshly ground pepper|2 tb Extra-virgin olive oil|3 Stalks celery|1 Granny Smith apple|2 Heads Belgian endive, leaves separated|Salt\", \"servings\": \"4 Servings\", \"instructions\": \"1. Chop anchovies and place in a bowl with mustard. Add 1 T of the lemon juice and pepper to taste, and mix well. Slowly whisk in the olive oil. The dressing can be made a day ahead of time, 2. Peel the celery to remove the strings. Cut each stalk into thirds and julienne. Set aside. Quarter and core the apple, but do not peel. Thinly slice each quarter and place in a serving bowl. Sprinkle remaining 3/4 t lemon juice over apples and toss to coat. 3. Julienne endive leaves. Add celery and endive to the apples and toss with dressing. Season to taste with salt and pepper. Serve immediately.\"}, {\"title\": \"Fresh Morels with Apples and Butter Noodles\", \"ingredients\": \"6 tb Butter|1 lb Fresh morels, sliced if large|1/2 c Minced shallots|3 Granny smith apples, cored and julienned with skin attached|1 Chipolte pepper, dry, minced|1 tb Flour|1/4 c Calvados|1/2 c Vegetable stock|1/2 lb Fresh pencil asparagus tips|1/2 lb Cooked lancaster butter noodles|1 ts Cracked black pepper corns|Salt to taste|1/2 c Watercress or baby mustard greens\", \"servings\": \"1 Servings\", \"instructions\": \"In a hot pan clarify butter, add mushrooms and saute 2 minutes. Add shallots saute for 2 minutes. Add apples, chipotle and flour, saute 2 minutes. Add calvados and flambe. Add stock and bring to a boil. Add asparagus, stir, add pasta, cook 3 minutes. Add black peppercorns, and salt, toss. Serve garnished with greens. Yield: 4 servings\"}, {\"title\": \"Fresh Pear and Apple Pie\", \"ingredients\": \"4 Apples (4 cups sliced)|4 Firm Pears (4 cups sliced)|2 tb Lime Juice|2/3 c Brown Sugar, firmly packed|1/4 c Cornstarch|1/2 ts Cinnamon|1/4 ts Nutmeg|2 tb Butter|Pastry for a 9 inch pie\", \"servings\": \"6 Servings\", \"instructions\": \"Preheat oven to 350 degrees Prepare pastry or thaw frozen pastry and set aside. Peel and slice apples and pears. Place in large bowl and toss with lime juice. Combine brown sugar, cornstarch, cinnamon and nutmeg in small bowl. Toss with apple and pear slices until coated. Turn into a 9x1-1/2 inch deep dish pie plate. Dot with butter. Roll out pastry for top crust. Cut slits to vent steam during baking and place over filling. Seal and flute edges. Bake at 350 degrees for 45 to 50 minutes or until crust is lightly browned.\"}, {\"title\": \"Fresh Pineapple Pie\", \"ingredients\": \"3 c Fresh pineapple; finely chopped|3 tb Cornstarch|1/2 c Sugar|1/4 ts Salt|1 Pastry for a 2 crust 9\\\" pie\", \"servings\": \"8 Servings\", \"instructions\": \"Cook pineapple until tender, and consistency of canned crushed pineapple. Drain. Mix cornstarch, sugar and salt. Add to pineapple. Cook until thick, stirring constantly. Cool. Pour into pie shell. Cover with top crust. Bake at 425F for 25 minutes. /FRUIT\"}, {\"title\": \"Fresh Pineapple Pie\", \"ingredients\": \"1 Recipe for Double Crust Pie|2/3 c Granulated sugar|1/4 c All purpose flour|4 c Peeled; cored, cubed, fresh pineapple), about 1 1/2 med.|1/2 c Snipped dried apricots|1/3 c Chopped macadamia nuts or almonds|2 tb Rum flavoring plus 2 T. water|1 ts Granulated sugar|1/8 ts Ground cinnamon|1 tb Milk\", \"servings\": \"8 Servings\", \"instructions\": \"Prepare and roll our pastry for double crust pie as directed. Line a 9 inch pie plate with half of the pastry. For filling, combine 2/3 cup sugar and the flour. Add the pineapple, apricots, nuts, and rum, then gently toss until coated. Transfer fruit mixture to the pastry-lined pie plate. Trim bottom pastry to edge of pie plate. Cut slits in the top crust. Place top crust on filling. Seal and flute edge. Combine 1 teaspoon sugar and the cinnamon. Brush top crust with milk. Sprinkle with sugar-cinnamon. Cover edge of pie with foil. Bake in a 375 oven for 25 minutes. Remove foil. Bake 20-25 minutes more or until golden. Cool pie on a wire rack. Cover and refrigerate any leftovers. Makes 8 servings.\"}, {\"title\": \"Fresh Pineapple Sauce\", \"ingredients\": \"1/4 Fresh pineapple; cored, cut in chunks|1/4 c Sugar|2 tb Dark rum|1 tb Fresh lime or lemon juice\", \"servings\": \"1 Servings\", \"instructions\": \"Puree pineapple till smooth. Add remaining ingredients and blend well. NOTES : Wonderful on sorbet or ice cream.\"}, {\"title\": \"Fresh Pineapple Slaw\", \"ingredients\": \"2 c Chopped fresh pineapple|1 md Carrot, shredded|1 md Green pepper, julienned|3 tb White wine vinegar|3 tb Unsweetened pineapple juice|1 tb Honey|1 ts Oil|2 oz Crumbled blue cheese\", \"servings\": \"6 Servings\", \"instructions\": \"1. Combine pineapple, carrot, and green pepper in a medium bowl, toss gently. Combine vinegar, and the next 3 ingredients and stir well with a wire whisk. Pour over pineapple mixture and toss. Cover and chill 1 hour. Top with blue cheese just before serving. Per serving (1/2 cup) - 90 cal.\"}, {\"title\": \"Fresh Pineapple Upside-Down Cake\", \"ingredients\": \"1/2 c Blanched whole almonds|4 tb Unsalted butter, melted, plus|9 tb Unsalted butter,; softened|1/2 c Packed brown sugar|2 tb Light corn syrup|1/2 Pineapple, peeled, cored, cut in half lengthwise and cut crosswise into 1/2-inch slices|1 1/2 c Pastry flour|3/4 c Granulated sugar|3/4 ts Baking powder|1/4 ts Baking soda|1/2 ts Salt|1/2 c Sour cream|3 lg Egg yolks|1 ts Vanilla extract\", \"servings\": \"1 Servings\", \"instructions\": \"Preheat the oven to 350 degrees. Spread the almonds on a baking sheet and toast, shaking the pan occasionally, until lightly golden, 15 to 20 minutes. Set aside to cool. Turn the oven temperature down to 325 degrees. Stir together the melted butter, brown sugar and corn syrup and evenly coat the bottom and sides of a 10-inch glass pie plate with the mixture. When the almonds are cool, arrange around the bottom rim of the pie plate, with a few in the center, gently pressing them into the brown mixture. Arrange pineapple on top. In a mixing bowl, combine the pastry flour, granulated sugar, baking powder, baking soda and salt and thoroughly mix. In another bowl, whisk together the softened butter, sour cream, egg yolks and vanilla. Add to the dry ingredients and mix with an electric mixer at medium speed about 1 1/2 minutes, scraping down the sides of the bowl occasionally, until thick and smooth. Using a spatula, spread the batter evenly over the fruit, building up the outside edges so the cake will be level when baked.\"}]\n"
     ]
    },
    {
     "ename": "KeyError",
     "evalue": "'recipes'",
     "output_type": "error",
     "traceback": [
      "\u001b[0;31m---------------------------------------------------------------------------\u001b[0m",
      "\u001b[0;31mKeyError\u001b[0m                                  Traceback (most recent call last)",
      "\u001b[1;32m/home/shruthim/vscode/repository2/_notebooks/2023-02-07-pythonbackendcpt.ipynb Cell 2\u001b[0m in \u001b[0;36m<cell line: 24>\u001b[0;34m()\u001b[0m\n\u001b[1;32m     <a href='vscode-notebook-cell://wsl%2Bubuntu/home/shruthim/vscode/repository2/_notebooks/2023-02-07-pythonbackendcpt.ipynb#W2sdnNjb2RlLXJlbW90ZQ%3D%3D?line=19'>20</a>\u001b[0m     \u001b[39mprint\u001b[39m(\u001b[39m\"\u001b[39m\u001b[39mingredients: \u001b[39m\u001b[39m\"\u001b[39m \u001b[39m+\u001b[39m x[\u001b[39m\"\u001b[39m\u001b[39mingredients\u001b[39m\u001b[39m\"\u001b[39m])\n\u001b[1;32m     <a href='vscode-notebook-cell://wsl%2Bubuntu/home/shruthim/vscode/repository2/_notebooks/2023-02-07-pythonbackendcpt.ipynb#W2sdnNjb2RlLXJlbW90ZQ%3D%3D?line=20'>21</a>\u001b[0m     \u001b[39mprint\u001b[39m(\u001b[39m\"\u001b[39m\u001b[39minstructions: \u001b[39m\u001b[39m\"\u001b[39m \u001b[39m+\u001b[39m x[\u001b[39m\"\u001b[39m\u001b[39minstructions\u001b[39m\u001b[39m\"\u001b[39m])\n\u001b[0;32m---> <a href='vscode-notebook-cell://wsl%2Bubuntu/home/shruthim/vscode/repository2/_notebooks/2023-02-07-pythonbackendcpt.ipynb#W2sdnNjb2RlLXJlbW90ZQ%3D%3D?line=23'>24</a>\u001b[0m \u001b[39mfor\u001b[39;00m recipe \u001b[39min\u001b[39;00m x[\u001b[39m'\u001b[39;49m\u001b[39mrecipes\u001b[39;49m\u001b[39m'\u001b[39;49m]:\n\u001b[1;32m     <a href='vscode-notebook-cell://wsl%2Bubuntu/home/shruthim/vscode/repository2/_notebooks/2023-02-07-pythonbackendcpt.ipynb#W2sdnNjb2RlLXJlbW90ZQ%3D%3D?line=24'>25</a>\u001b[0m     print_recipes(recipe)\n\u001b[1;32m     <a href='vscode-notebook-cell://wsl%2Bubuntu/home/shruthim/vscode/repository2/_notebooks/2023-02-07-pythonbackendcpt.ipynb#W2sdnNjb2RlLXJlbW90ZQ%3D%3D?line=25'>26</a>\u001b[0m     \u001b[39mprint\u001b[39m()\n",
      "\u001b[0;31mKeyError\u001b[0m: 'recipes'"
     ]
    }
   ],
   "source": [
    "import requests\n",
    "\n",
    "url = \"https://recipe-by-api-ninjas.p.rapidapi.com/v1/recipe\"\n",
    "#if user inputs \"apple\"\n",
    "\n",
    "querystring = {\"query\":\"apple\"}\n",
    "\n",
    "headers = {\n",
    "\t\"X-RapidAPI-Key\": \"ec628c3848mshc2f96fd1e664c35p194b32jsna5ebcbef62b6\",\n",
    "\t\"X-RapidAPI-Host\": \"recipe-by-api-ninjas.p.rapidapi.com\"\n",
    "}\n",
    "\n",
    "response = requests.request(\"GET\", url, headers=headers, params=querystring)\n",
    "print(response.text)\n",
    "json = response.json()\n",
    "\n",
    "def print_recipes(x):\n",
    "    data = json.get('data')\n",
    "    print(\"Recipe:\", x[\"title\"])\n",
    "    print(\"ingredients: \" + x[\"ingredients\"])\n",
    "    print(\"instructions: \" + x[\"instructions\"])\n",
    "\n",
    "\n",
    "for recipe in x['recipes']:\n",
    "    print_recipes(recipe)\n",
    "    print()"
   ]
  }
 ],
 "metadata": {
  "kernelspec": {
   "display_name": "Python 3",
   "language": "python",
   "name": "python3"
  },
  "language_info": {
   "codemirror_mode": {
    "name": "ipython",
    "version": 3
   },
   "file_extension": ".py",
   "mimetype": "text/x-python",
   "name": "python",
   "nbconvert_exporter": "python",
   "pygments_lexer": "ipython3",
   "version": "3.8.10"
  },
  "orig_nbformat": 4,
  "vscode": {
   "interpreter": {
    "hash": "916dbcbb3f70747c44a77c7bcd40155683ae19c65e1c03b4aa3499c5328201f1"
   }
  }
 },
 "nbformat": 4,
 "nbformat_minor": 2
}
