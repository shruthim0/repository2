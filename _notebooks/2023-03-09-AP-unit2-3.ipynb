{
 "cells": [
  {
   "attachments": {},
   "cell_type": "markdown",
   "metadata": {},
   "source": [
    "#  Unit 2.3 Extracting Information from Data, Pandas\n",
    "> Data connections, trends, and correlation.  Pandas is introduced as it could be valuable for PBL, data validation, as well as understanding College Board Topics.\n",
    "- toc: true\n",
    "- image: /images/python.png\n",
    "- categories: []\n",
    "- type: ap\n",
    "- week: 25"
   ]
  },
  {
   "attachments": {},
   "cell_type": "markdown",
   "metadata": {},
   "source": [
    "# Files To Get\n",
    "\n",
    "Save this file to your **_notebooks** folder\n",
    "\n",
    "wget https://raw.githubusercontent.com/nighthawkcoders/APCSP/master/_notebooks/2023-03-09-AP-unit2-3.ipynb\n",
    "\n",
    "Save these files into a subfolder named **files** in your **_notebooks** folder\n",
    "\n",
    "wget https://raw.githubusercontent.com/nighthawkcoders/APCSP/master/_notebooks/files/data.csv\n",
    "\n",
    "wget https://raw.githubusercontent.com/nighthawkcoders/APCSP/master/_notebooks/files/grade.json\n",
    "\n",
    "Save this image into a subfolder named **images** in your **_notebooks** folder\n",
    "\n",
    "wget https://raw.githubusercontent.com/nighthawkcoders/APCSP/master/_notebooks/images/table_dataframe.png\n"
   ]
  },
  {
   "attachments": {},
   "cell_type": "markdown",
   "metadata": {},
   "source": [
    "# Pandas and DataFrames\n",
    "> In this lesson we will be exploring data analysis using Pandas.  \n",
    "\n",
    "- College Board talks about ideas like \n",
    "    - Tools. \"the ability to process data depends on users capabilities and their tools\"\n",
    "    - Combining Data.  \"combine county data sets\"\n",
    "    - Status on Data\"determining the artist with the greatest attendance during a particular month\"\n",
    "    - Data poses challenge. \"the need to clean data\", \"incomplete data\"\n",
    "\n",
    "\n",
    "- [From Pandas Overview](https://pandas.pydata.org/docs/getting_started/index.html) -- When working with tabular data, such as data stored in spreadsheets or databases, pandas is the right tool for you. pandas will help you to explore, clean, and process your data. In pandas, a data table is called a DataFrame.\n",
    "\n",
    "\n",
    "![DataFrame](images/table_dataframe.png)"
   ]
  },
  {
   "cell_type": "code",
   "execution_count": 47,
   "metadata": {},
   "outputs": [],
   "source": [
    "'''Pandas is used to gather data sets through its DataFrames implementation'''\n",
    "import pandas as pd"
   ]
  },
  {
   "attachments": {},
   "cell_type": "markdown",
   "metadata": {},
   "source": [
    "# Cleaning Data\n",
    "\n",
    "When looking at a data set, check to see what data needs to be cleaned. Examples include:\n",
    "- Missing Data Points\n",
    "- Invalid Data\n",
    "- Inaccurate Data\n",
    "\n",
    "Run the following code to see what needs to be cleaned"
   ]
  },
  {
   "cell_type": "code",
   "execution_count": 48,
   "metadata": {},
   "outputs": [
    {
     "name": "stdout",
     "output_type": "stream",
     "text": [
      "   Student ID Year in School   GPA\n",
      "0         123             12  3.57\n",
      "1         246             10  4.00\n",
      "2         578             12  2.78\n",
      "3         469             11  3.45\n",
      "4         324         Junior  4.75\n",
      "5         313             20  3.33\n",
      "6         145             12  2.95\n",
      "7         167             10  3.90\n",
      "8         235      9th Grade  3.15\n",
      "9         nil              9  2.80\n",
      "10        469             11  3.45\n",
      "11        456             10  2.75\n"
     ]
    }
   ],
   "source": [
    "# reads the JSON file and converts it to a Pandas DataFrame\n",
    "df = pd.read_json('files/grade.json')\n",
    "\n",
    "print(df)\n",
    "# What part of the data set needs to be cleaned?\n",
    "      # \"Junior\", \"9th Grade\" need to be cleaned\n",
    "# From PBL learning, what is a good time to clean data?  Hint, remember Garbage in, Garbage out?\n",
    "      # When data is enterd by users\n",
    "      # ex. if user enters something with numbers into a field called \"Name\""
   ]
  },
  {
   "attachments": {},
   "cell_type": "markdown",
   "metadata": {},
   "source": [
    "# Extracting Info\n",
    "\n",
    "Take a look at some features that the Pandas library has that extracts info from the dataset"
   ]
  },
  {
   "attachments": {},
   "cell_type": "markdown",
   "metadata": {},
   "source": [
    "## DataFrame Extract Column"
   ]
  },
  {
   "cell_type": "code",
   "execution_count": 49,
   "metadata": {},
   "outputs": [
    {
     "name": "stdout",
     "output_type": "stream",
     "text": [
      "     GPA\n",
      "0   3.57\n",
      "1   4.00\n",
      "2   2.78\n",
      "3   3.45\n",
      "4   4.75\n",
      "5   3.33\n",
      "6   2.95\n",
      "7   3.90\n",
      "8   3.15\n",
      "9   2.80\n",
      "10  3.45\n",
      "11  2.75\n",
      "\n",
      "Student ID  GPA\n",
      "       123 3.57\n",
      "       246 4.00\n",
      "       578 2.78\n",
      "       469 3.45\n",
      "       324 4.75\n",
      "       313 3.33\n",
      "       145 2.95\n",
      "       167 3.90\n",
      "       235 3.15\n",
      "       nil 2.80\n",
      "       469 3.45\n",
      "       456 2.75\n"
     ]
    }
   ],
   "source": [
    "#print the values in the points column with column header\n",
    "print(df[['GPA']])\n",
    "\n",
    "print()\n",
    "\n",
    "#try two columns and remove the index from print statement\n",
    "print(df[['Student ID','GPA']].to_string(index=False))"
   ]
  },
  {
   "attachments": {},
   "cell_type": "markdown",
   "metadata": {},
   "source": [
    "## DataFrame Sort"
   ]
  },
  {
   "cell_type": "code",
   "execution_count": null,
   "metadata": {},
   "outputs": [],
   "source": [
    "#sort values\n",
    "print(df.sort_values(by=['GPA']))\n",
    "\n",
    "print()\n",
    "\n",
    "#sort the values in reverse order\n",
    "print(df.sort_values(by=['GPA'], ascending=False))"
   ]
  },
  {
   "attachments": {},
   "cell_type": "markdown",
   "metadata": {},
   "source": [
    "## DataFrame Selection or Filter"
   ]
  },
  {
   "cell_type": "code",
   "execution_count": 5,
   "metadata": {},
   "outputs": [
    {
     "name": "stdout",
     "output_type": "stream",
     "text": [
      "   Student ID Year in School   GPA\n",
      "0         123             12  3.57\n",
      "1         246             10  4.00\n",
      "3         469             11  3.45\n",
      "4         324         Junior  4.75\n",
      "5         313             20  3.33\n",
      "7         167             10  3.90\n",
      "8         235      9th Grade  3.15\n",
      "10        469             11  3.45\n"
     ]
    }
   ],
   "source": [
    "#print only values with a specific criteria \n",
    "print(df[df.GPA > 3.00])"
   ]
  },
  {
   "attachments": {},
   "cell_type": "markdown",
   "metadata": {},
   "source": [
    "## DataFrame Selection Max and Min"
   ]
  },
  {
   "cell_type": "code",
   "execution_count": 6,
   "metadata": {},
   "outputs": [
    {
     "name": "stdout",
     "output_type": "stream",
     "text": [
      "  Student ID Year in School   GPA\n",
      "4        324         Junior  4.75\n",
      "\n",
      "   Student ID Year in School   GPA\n",
      "11        456             10  2.75\n"
     ]
    }
   ],
   "source": [
    "print(df[df.GPA == df.GPA.max()])\n",
    "print()\n",
    "print(df[df.GPA == df.GPA.min()])"
   ]
  },
  {
   "attachments": {},
   "cell_type": "markdown",
   "metadata": {},
   "source": [
    "# Create your own DataFrame\n",
    "\n",
    "Using Pandas allows you to create your own DataFrame in Python."
   ]
  },
  {
   "attachments": {},
   "cell_type": "markdown",
   "metadata": {},
   "source": [
    "## Python Dictionary to Pandas DataFrame"
   ]
  },
  {
   "cell_type": "code",
   "execution_count": 10,
   "metadata": {},
   "outputs": [
    {
     "name": "stdout",
     "output_type": "stream",
     "text": [
      "-------------Dict_to_DF------------------\n",
      "   calories  duration\n",
      "0       420        50\n",
      "1       380        40\n",
      "2       390        45\n",
      "3       387        35\n",
      "----------Dict_to_DF_labels--------------\n",
      "      calories  duration\n",
      "day1       420        50\n",
      "day2       380        40\n",
      "day3       390        45\n",
      "day4       387        35\n"
     ]
    }
   ],
   "source": [
    "import pandas as pd\n",
    "\n",
    "#the data can be stored as a python dictionary\n",
    "dict = {\n",
    "  \"calories\": [420, 380, 390, 387],\n",
    "  \"duration\": [50, 40, 45, 35]\n",
    "}\n",
    "#stores the data in a data frame\n",
    "print(\"-------------Dict_to_DF------------------\")\n",
    "df = pd.DataFrame(dict)\n",
    "print(df)\n",
    "\n",
    "print(\"----------Dict_to_DF_labels--------------\")\n",
    "\n",
    "#or with the index argument, you can label rows.\n",
    "df = pd.DataFrame(dict, index = [\"day1\", \"day2\", \"day3\", \"day4\"])\n",
    "print(df)"
   ]
  },
  {
   "attachments": {},
   "cell_type": "markdown",
   "metadata": {},
   "source": [
    "## Examine DataFrame Rows"
   ]
  },
  {
   "cell_type": "code",
   "execution_count": 11,
   "metadata": {},
   "outputs": [
    {
     "name": "stdout",
     "output_type": "stream",
     "text": [
      "-------Examine Selected Rows---------\n",
      "      calories  duration\n",
      "day1       420        50\n",
      "day3       390        45\n",
      "--------Examine Single Row-----------\n",
      "calories    420\n",
      "duration     50\n",
      "Name: day1, dtype: int64\n"
     ]
    }
   ],
   "source": [
    "print(\"-------Examine Selected Rows---------\")\n",
    "#use a list for multiple labels:\n",
    "print(df.loc[[\"day1\", \"day3\"]])\n",
    "\n",
    "#refer to the row index:\n",
    "print(\"--------Examine Single Row-----------\")\n",
    "print(df.loc[\"day1\"])"
   ]
  },
  {
   "attachments": {},
   "cell_type": "markdown",
   "metadata": {},
   "source": [
    "## Pandas DataFrame Information"
   ]
  },
  {
   "cell_type": "code",
   "execution_count": 13,
   "metadata": {},
   "outputs": [
    {
     "name": "stdout",
     "output_type": "stream",
     "text": [
      "<class 'pandas.core.frame.DataFrame'>\n",
      "Index: 4 entries, day1 to day4\n",
      "Data columns (total 2 columns):\n",
      " #   Column    Non-Null Count  Dtype\n",
      "---  ------    --------------  -----\n",
      " 0   calories  4 non-null      int64\n",
      " 1   duration  4 non-null      int64\n",
      "dtypes: int64(2)\n",
      "memory usage: 268.0+ bytes\n",
      "None\n"
     ]
    }
   ],
   "source": [
    "#print info about the data set\n",
    "print(df.info())"
   ]
  },
  {
   "attachments": {},
   "cell_type": "markdown",
   "metadata": {},
   "source": [
    "# Example of larger data set\n",
    "\n",
    "Pandas can read CSV and many other types of files, run the following code to see more features with a larger data set"
   ]
  },
  {
   "cell_type": "code",
   "execution_count": 14,
   "metadata": {},
   "outputs": [
    {
     "name": "stdout",
     "output_type": "stream",
     "text": [
      "--Duration Top 10---------\n",
      "     Duration  Pulse  Maxpulse  Calories\n",
      "69        300    108       143    1500.2\n",
      "79        270    100       131    1729.0\n",
      "109       210    137       184    1860.4\n",
      "60        210    108       160    1376.0\n",
      "106       180     90       120     800.3\n",
      "90        180    101       127     600.1\n",
      "65        180     90       130     800.4\n",
      "61        160    110       137    1034.4\n",
      "62        160    109       135     853.0\n",
      "67        150    107       130     816.0\n",
      "--Duration Bottom 10------\n",
      "     Duration  Pulse  Maxpulse  Calories\n",
      "68         20    106       136     110.4\n",
      "100        20     95       112      77.7\n",
      "89         20     83       107      50.3\n",
      "135        20    136       156     189.0\n",
      "94         20    150       171     127.4\n",
      "95         20    151       168     229.4\n",
      "139        20    141       162     222.4\n",
      "64         20    110       130     131.4\n",
      "112        15    124       139     124.2\n",
      "93         15     80       100      50.5\n"
     ]
    }
   ],
   "source": [
    "import pandas as pd\n",
    "\n",
    "#read csv and sort 'Duration' largest to smallest\n",
    "df = pd.read_csv('files/data.csv').sort_values(by=['Duration'], ascending=False)\n",
    "\n",
    "print(\"--Duration Top 10---------\")\n",
    "print(df.head(10))\n",
    "\n",
    "print(\"--Duration Bottom 10------\")\n",
    "print(df.tail(10))\n"
   ]
  },
  {
   "attachments": {},
   "cell_type": "markdown",
   "metadata": {},
   "source": [
    "# APIs are a Source for Writing Programs with Data\n",
    "> 3rd Party APIs are a great source for creating Pandas Data Frames.  \n",
    "- Data can be fetched and resulting json can be placed into a Data Frame\n",
    "- Observe output, this looks very similar to a Database"
   ]
  },
  {
   "cell_type": "code",
   "execution_count": 15,
   "metadata": {},
   "outputs": [
    {
     "name": "stdout",
     "output_type": "stream",
     "text": [
      "  country_name       cases     deaths\n",
      "0          USA  82,649,779  1,018,316\n",
      "1        India  43,057,545    522,193\n",
      "2       Brazil  30,345,654    662,663\n",
      "3       France  28,244,977    145,020\n",
      "4      Germany  24,109,433    134,624\n",
      "5           UK  21,933,206    173,352\n"
     ]
    }
   ],
   "source": [
    "'''Pandas can be used to analyze data'''\n",
    "import pandas as pd\n",
    "import requests\n",
    "\n",
    "def fetch():\n",
    "    '''Obtain data from an endpoint'''\n",
    "    url = \"https://flask.nighthawkcodingsociety.com/api/covid/\"\n",
    "    fetch = requests.get(url)\n",
    "    json = fetch.json()\n",
    "\n",
    "    # filter data for requirement\n",
    "    df = pd.DataFrame(json['countries_stat'])  # filter endpoint for country stats\n",
    "    print(df.loc[0:5, 'country_name':'deaths']) # show row 0 through 5 and columns country_name through deaths\n",
    "    \n",
    "fetch()"
   ]
  },
  {
   "attachments": {},
   "cell_type": "markdown",
   "metadata": {},
   "source": [
    "# Hacks\n",
    "> AP Prep\n",
    "- Add this Blog to you own Blogging site.  In the Blog add notes and observations on each code cell.\n",
    "- In blog add College Board practice problems for 2.3.\n",
    "\n",
    "> The next 4 weeks, Teachers want you to improve your understanding of data.  Look at the blog and others on Unit 2.  Your intention is to find some things to differentiate your individual College Board project.\n",
    "- Create or Find your own dataset.  The suggestion is to use a JSON file, integrating with your PBL project would be ***Fambulous***.\n",
    "\n",
    "    When choosing a data set, think about the following:\n",
    "    - Does it have a good sample size?\n",
    "    - Is there bias in the data?\n",
    "    - Does the data set need to be cleaned?\n",
    "    - What is the purpose of the data set?\n",
    "    - ...\n",
    "- Continue this Blog using Pandas extract info from that dataset (ex. max, min, mean, median, mode, etc.)\n",
    "\n",
    "## Hack Helpers\n",
    "> Here is how Mort started on this assignment by asking ChatGPT  ... Regarding Python Pandas, what are some data sets that would be good for learning Pandas?\n",
    "\n",
    "- There are many data sets that are suitable for learning pandas, depending on your interests and the skills you want to develop. Here are some suggestions:\n",
    "\n",
    "    - Titanic Dataset: This is a classic dataset for data analysis and machine learning, and is often used as an introduction to pandas. The dataset contains information about passengers on the Titanic, including their demographics, ticket class, and survival status.\n",
    "\n",
    "    - Iris Dataset: This is another classic dataset that is often used in machine learning and data analysis courses. The dataset contains information about iris flowers, including their sepal length, sepal width, petal length, and petal width.\n",
    "\n",
    "    - NBA Player Stats: This dataset contains information about NBA players, including their stats for various games, their positions, and their salaries. It is a great dataset for learning how to clean and manipulate data using pandas.\n",
    "\n",
    "    - Housing Prices Dataset: This dataset contains information about housing prices in a particular city or region, including variables such as the number of bedrooms, square footage, and price. It is a great dataset for learning how to manipulate and analyze numerical data using pandas.\n",
    "\n",
    "    - COVID-19 Dataset: This dataset contains information about the COVID-19 pandemic, including the number of cases, deaths, and recoveries in various countries and regions. It is a great dataset for learning how to manipulate and analyze time-series data using pandas.\n",
    "\n",
    "    - World Bank Dataset: This dataset contains information about economic indicators from various countries, such as GDP, population, and poverty rates. It is a great dataset for learning how to manipulate and analyze large datasets using pandas.\n",
    "\n",
    "- These are just a few examples of the many datasets that are suitable for learning pandas. The best dataset for you will depend on your interests and the specific skills you want to develop.\n",
    "\n",
    "\n",
    "> Follow up question, \"where can I find Titanic data set?\"\n",
    "\n",
    "- The Titanic dataset is a popular dataset for data analysis and machine learning, and it can be found on various websites and data repositories. Here are a few places where you can find the Titanic dataset:\n",
    "\n",
    "    - Kaggle: The Titanic dataset is available on Kaggle, which is a popular platform for data scientists and machine learning enthusiasts. You can download the dataset from the Kaggle website after creating an account.\n",
    "\n",
    "    - UCI Machine Learning Repository: The Titanic dataset is also available on the UCI Machine Learning Repository, which is a collection of datasets that are commonly used for machine learning research. You can download the dataset from the UCI Machine Learning Repository website.\n",
    "\n",
    "    - Seaborn library: If you have the Seaborn library installed in your Python environment, you can load the Titanic dataset directly from the library using the following code:\n",
    "\n",
    "    ```python\n",
    "    import seaborn as sns\n",
    "    titanic_data = sns.load_dataset('titanic')\n",
    "    ```"
   ]
  },
  {
   "attachments": {},
   "cell_type": "markdown",
   "metadata": {},
   "source": [
    "### Titanic Data\n",
    "> Look at a sample of data."
   ]
  },
  {
   "cell_type": "code",
   "execution_count": null,
   "metadata": {},
   "outputs": [],
   "source": [
    "import seaborn as sns\n",
    "\n",
    "# Load the titanic dataset\n",
    "titanic_data = sns.load_dataset('titanic')\n",
    "\n",
    "print(\"Titanic Data\")\n",
    "\n",
    "\n",
    "print(titanic_data.columns) # titanic data set\n",
    "\n",
    "print(titanic_data[['survived','pclass', 'sex', 'age', 'sibsp', 'parch', 'class', 'fare', 'embark_town']]) # look at selected columns"
   ]
  },
  {
   "attachments": {},
   "cell_type": "markdown",
   "metadata": {},
   "source": [
    "> Use Pandas to clean the data.  Most analysis, like Machine Learning or even Pandas in general like data to be in standardized format.  This is called 'Training' or 'Cleaning' data."
   ]
  },
  {
   "cell_type": "code",
   "execution_count": null,
   "metadata": {},
   "outputs": [],
   "source": [
    "\n",
    "# Preprocess the data\n",
    "from sklearn.preprocessing import OneHotEncoder\n",
    "\n",
    "\n",
    "td = titanic_data\n",
    "td.drop(['alive', 'who', 'adult_male', 'class', 'embark_town', 'deck'], axis=1, inplace=True)\n",
    "td.dropna(inplace=True)\n",
    "td['sex'] = td['sex'].apply(lambda x: 1 if x == 'male' else 0)\n",
    "td['alone'] = td['alone'].apply(lambda x: 1 if x == True else 0)\n",
    "\n",
    "# Encode categorical variables\n",
    "enc = OneHotEncoder(handle_unknown='ignore')\n",
    "enc.fit(td[['embarked']])\n",
    "onehot = enc.transform(td[['embarked']]).toarray()\n",
    "cols = ['embarked_' + val for val in enc.categories_[0]]\n",
    "td[cols] = pd.DataFrame(onehot)\n",
    "td.drop(['embarked'], axis=1, inplace=True)\n",
    "td.dropna(inplace=True)\n",
    "\n",
    "print(td)"
   ]
  },
  {
   "attachments": {},
   "cell_type": "markdown",
   "metadata": {},
   "source": [
    "> The result of 'Training' data is making it easier to analyze or make conclusions.  In looking at the Titanic, as you clean you would probably want to make assumptions on likely chance of survival.\n",
    "\n",
    "This would involve analyzing various factors (such as age, gender, class, etc.) that may have affected a person's chances of survival, and using that information to make predictions about whether an individual would have survived or not. \n",
    "\n",
    "- Data description:\n",
    "    - Survival - Survival (0 = No; 1 = Yes). Not included in test.csv file.\n",
    "    - Pclass - Passenger Class (1 = 1st; 2 = 2nd; 3 = 3rd)\n",
    "    - Name - Name\n",
    "    - Sex - Sex\n",
    "    - Age - Age\n",
    "    - Sibsp - Number of Siblings/Spouses Aboard\n",
    "    - Parch - Number of Parents/Children Aboard\n",
    "    - Ticket - Ticket Number\n",
    "    - Fare - Passenger Fare\n",
    "    - Cabin - Cabin\n",
    "    - Embarked - Port of Embarkation (C = Cherbourg; Q = Queenstown; S = Southampton)\n",
    "\n",
    "- Perished Mean/Average"
   ]
  },
  {
   "cell_type": "code",
   "execution_count": null,
   "metadata": {},
   "outputs": [],
   "source": [
    "print(titanic_data.query(\"survived == 0\").mean())"
   ]
  },
  {
   "attachments": {},
   "cell_type": "markdown",
   "metadata": {},
   "source": [
    "- Survived Mean/Average"
   ]
  },
  {
   "cell_type": "code",
   "execution_count": null,
   "metadata": {},
   "outputs": [],
   "source": [
    "print(td.query(\"survived == 1\").mean())"
   ]
  },
  {
   "attachments": {},
   "cell_type": "markdown",
   "metadata": {},
   "source": [
    "> Survived Max and Min Stats"
   ]
  },
  {
   "cell_type": "code",
   "execution_count": null,
   "metadata": {},
   "outputs": [],
   "source": [
    "print(td.query(\"survived == 1\").max())\n",
    "print(td.query(\"survived == 1\").min())"
   ]
  },
  {
   "attachments": {},
   "cell_type": "markdown",
   "metadata": {},
   "source": [
    "## Machine Learning\n",
    "> [From Tutorials Point](https://www.tutorialspoint.com/scikit_learn/scikit_learn_introduction.htm#:~:text=Scikit%2Dlearn%20(Sklearn)%20is,a%20consistence%20interface%20in%20Python).  Scikit-learn (Sklearn) is the most useful and robust library for machine learning in Python. It provides a selection of efficient tools for machine learning and statistical modeling including classification, regression, clustering and dimensionality reduction via a consistence interface in Python.\n",
    "\n",
    "> Description from ChatGPT. The Titanic dataset is a popular dataset for data analysis and machine learning. In the context of machine learning, accuracy refers to the percentage of correctly classified instances in a set of predictions. In this case, the testing data is a subset of the original Titanic dataset that the decision tree model has not seen during training......After training the decision tree model on the training data, we can evaluate its performance on the testing data by making predictions on the testing data and comparing them to the actual outcomes. The accuracy of the decision tree classifier on the testing data tells us how well the model generalizes to new data that it hasn't seen before......For example, if the accuracy of the decision tree classifier on the testing data is 0.8 (or 80%), this means that 80% of the predictions made by the model on the testing data were correct....Chance of survival could be done using various machine learning techniques, including decision trees, logistic regression, or support vector machines, among others.\n",
    "\n",
    "- Code Below prepares data for further analysis and provides an Accuracy.  IMO, you would insert a new passenger and predict survival.  Datasets could be used on various factors like prediction if a player will hit a Home Run, or a Stock will go up or down.\n",
    "    - [Decision Trees](https://scikit-learn.org/stable/modules/tree.html#tree), prediction by a piecewise constant approximation.\n",
    "    - [Logistic Regression](https://scikit-learn.org/stable/modules/linear_model.html#logistic-regression), the probabilities describing the possible outcomes."
   ]
  },
  {
   "cell_type": "code",
   "execution_count": null,
   "metadata": {},
   "outputs": [],
   "source": [
    "from sklearn.model_selection import train_test_split\n",
    "from sklearn.tree import DecisionTreeClassifier\n",
    "from sklearn.linear_model import LogisticRegression\n",
    "from sklearn.metrics import accuracy_score\n",
    "\n",
    "# Split arrays or matrices into random train and test subsets.\n",
    "X = td.drop('survived', axis=1)\n",
    "y = td['survived']\n",
    "X_train, X_test, y_train, y_test = train_test_split(X, y, test_size=0.3, random_state=42)\n",
    "\n",
    "# Train a decision tree classifier\n",
    "dt = DecisionTreeClassifier()\n",
    "dt.fit(X_train, y_train)\n",
    "\n",
    "# Test the model\n",
    "y_pred = dt.predict(X_test)\n",
    "accuracy = accuracy_score(y_test, y_pred)\n",
    "print('DecisionTreeClassifier Accuracy:', accuracy)\n",
    "\n",
    "# Train a logistic regression model\n",
    "logreg = LogisticRegression()\n",
    "logreg.fit(X_train, y_train)\n",
    "\n",
    "# Test the model\n",
    "y_pred = logreg.predict(X_test)\n",
    "accuracy = accuracy_score(y_test, y_pred)\n",
    "print('LogisticRegression Accuracy:', accuracy)\n",
    "\n"
   ]
  },
  {
   "attachments": {},
   "cell_type": "markdown",
   "metadata": {},
   "source": [
    "# My Hacks"
   ]
  },
  {
   "attachments": {},
   "cell_type": "markdown",
   "metadata": {},
   "source": [
    "## 2.3 Questions\n",
    "\n",
    "\n",
    "1. A researcher is analyzing data about students in a school district to determine whether there is a relationship between grade point average and number of absences. The researcher plans on compiling data from several sources to create a record for each student.\n",
    "\n",
    "The researcher has access to a database with the following information about each student.\n",
    "\n",
    "Last name\n",
    "First name\n",
    "Grade level (9, 10, 11, or 12)\n",
    "Grade point average (on a 0.0 to 4.0 scale)\n",
    "The researcher also has access to another database with the following information about each student.\n",
    "\n",
    "First name\n",
    "Last name\n",
    "Number of absences from school\n",
    "Number of late arrivals to school\n",
    "\n",
    "Upon compiling the data, the researcher identifies a problem due to the fact that neither data source uses a unique ID number for each student. Which of the following best describes the problem caused by the lack of unique ID numbers?\n",
    "\n",
    "**Answer**: There will be many students at the school that share the same first name. Without a unique student ID, students with the same name may get confused with eachother. So if one student's GPA may get confused with anothers, which would cause the researcher's data and analysis to be incorrect.\n",
    "\n",
    "\n",
    "2. A team of researchers wants to create a program to analyze the amount of pollution reported in roughly 3,000 counties across the United States. The program is intended to combine county data sets and then process the data. Which of the following is most likely to be a challenge in creating the program?\n",
    "\n",
    "**Answer**: Combining multiple data sets requires the involved data sets to have similar structures and calculations. One county may calculate pollution in different units (per sq acre vs per sq mile) than another county. County datasets may also differ in the frequency of data present. One county may have data on pollution for every year, but onther county may conduct that reaseach monthly.\n",
    "\n",
    "\n",
    "3. A student is creating a Web site that is intended to display information about a city based on a city name that a user enters in a text field. Which of the following are likely to be challenges associated with processing city names that users might provide as input?\n",
    "\n",
    "**Answer**: Anytime when user's are able to manually type into a field, there is always a chance the data collected from that field has \"garbage\" in it. Users may spell the city name wrong, use an abbreviation, or use a city nickname. A more user friendly program would plan for events like there by, for example, not only having city names in their data, but also city abbreviations.\n",
    "\n",
    "4. A database of information about shows at a concert venue contains the following information.\n",
    "\n",
    "Name of artist performing at the show\n",
    "Date of show\n",
    "Total dollar amount of all tickets sold\n",
    "Which of the following additional pieces of information would be most useful in determining the artist with the greatest attendance during a particular month?\n",
    "\n",
    "**Answer**: The average proce of tickets would be the most helpful in determining the artist with the greatest attendence. The attendance for a specific show can be calculated by dividing the dollar amount of tickets sold by the average ticket price would give you how many people have bought tickets for that show.\n",
    "\n",
    "5. A camera mounted on the dashboard of a car captures an image of the view from the driver’s seat every second. Each image is stored as data. Along with each image, the camera also captures and stores the car’s speed, the date and time, and the car’s GPS location as metadata. Which of the following can best be determined using only the data and none of the metadata?\n",
    "\n",
    "**Answer**: Only a visual would show the number of bicycles the car passed. Neither the car’s speed, the date, time, or the car’s GPS location would be able to indicate the number of bicycles the care passed.\n",
    "\n",
    "6. A teacher sends students an anonymous survey in order to learn more about the students’ work habits. The survey contains the following questions.\n",
    "\n",
    "On average, how long does homework take you each night (in minutes) ?\n",
    "On average, how long do you study for each test (in minutes) ?\n",
    "Do you enjoy the subject material of this class (yes or no) ?\n",
    "Which of the following questions about the students who responded to the survey can the teacher answer by analyzing the survey results?\n",
    "\n",
    "Do students who enjoy the subject material tend to spend more time on homework each night than the other students do?\n",
    "Do students who spend more time on homework each night tend to spend less time studying for tests than the other students do?\n",
    "Do students who spend more time studying for tests tend to earn higher grades in the class than the other students do?\n",
    "\n",
    "**Answer**: Option 3 requires data outside of the survey, specifically the student' grades. Both I and II only require data from within the survey."
   ]
  },
  {
   "attachments": {},
   "cell_type": "markdown",
   "metadata": {},
   "source": [
    "## 1990 vs. 2017 Carbon Emissions per Nation"
   ]
  },
  {
   "attachments": {},
   "cell_type": "markdown",
   "metadata": {},
   "source": [
    "### Purpose:\n",
    "\n",
    "The purpose of this dataset is to investigate the Carbon emissions for nations in 2017 vs in 1990. It allows people to see which nations increased in their emissions, which decreased, which nations are the greatest contibuters... I found a dataset on Kaggle, which had CO2 emissions for years 1990-->2018. I created a json file, but only used the \"Country\" \"1990 Carbon Emissions\" and \"2017 Carbon Emissions.\" "
   ]
  },
  {
   "cell_type": "code",
   "execution_count": 6,
   "metadata": {},
   "outputs": [
    {
     "name": "stdout",
     "output_type": "stream",
     "text": [
      "                 Country  Emissions1990  Emissions2017\n",
      "0            Afghanistan       0.191745       0.131695\n",
      "1                 Angola       0.553662       0.813301\n",
      "2                Albania       1.819542       1.788786\n",
      "3                Andorra       7.521832       6.104134\n",
      "4   United Arab Emirates      30.195189      20.769022\n",
      "..                   ...            ...            ...\n",
      "89               Czechia      14.540000      10.230000\n",
      "90           South Korea       5.777563      12.710000\n",
      "91            Kazakhstan      14.512479      17.520000\n",
      "92               Iceland       7.652280      10.480000\n",
      "93          Turkmenistan      12.120051      12.290000\n",
      "\n",
      "[94 rows x 3 columns]\n"
     ]
    }
   ],
   "source": [
    "# reads the json file and converts it to a Pandas DataFrame\n",
    "import pandas as pd\n",
    "df = pd.read_json('files/co2em.json')\n",
    "print(df)\n",
    "\n",
    "#print raw"
   ]
  },
  {
   "cell_type": "code",
   "execution_count": 7,
   "metadata": {},
   "outputs": [
    {
     "name": "stdout",
     "output_type": "stream",
     "text": [
      "                 Country  Emissions1990  Emissions2017\n",
      "             Afghanistan       0.191745       0.131695\n",
      "                  Angola       0.553662       0.813301\n",
      "                 Albania       1.819542       1.788786\n",
      "                 Andorra       7.521832       6.104134\n",
      "    United Arab Emirates      30.195189      20.769022\n",
      "               Argentina       3.075541       4.071308\n",
      "                 Armenia       5.610254       1.823560\n",
      "          American Samoa       0.540000       1.490000\n",
      "     Antigua and Barbuda       3.358227       5.239717\n",
      "               Australia      15.448488      15.818316\n",
      "                 Austria       7.589364       7.486162\n",
      "              Azerbaijan       7.453451       3.243342\n",
      "                 Burundi       0.031256       0.048952\n",
      "                 Belgium      10.966775       8.151096\n",
      "                   Benin       0.066285       0.614755\n",
      "            Burkina Faso       0.056747       0.222474\n",
      "              Bangladesh       0.111658       0.496852\n",
      "                Bulgaria       8.443170       6.201290\n",
      "                 Bahrain      21.656413      20.427328\n",
      "                 Bahamas       7.649467       5.684363\n",
      "  Bosnia and Herzegovina       5.370319       6.767051\n",
      "                 Belarus       9.797487       5.921351\n",
      "                  Belize       1.759493       1.703147\n",
      "                Bermunda       8.680000       6.990000\n",
      "                 Bolivia       1.516423       2.032547\n",
      "                  Brazil       1.328159       2.196418\n",
      "                Barbados       3.755753       4.122573\n",
      "       Brunei Barussalam      12.600787      21.640000\n",
      "                  Bhutan       0.150716       1.301030\n",
      "                Botswana       2.183786       3.324148\n",
      "Central African Republic       0.053443       0.047867\n",
      "                  Canada      15.148890      15.544571\n",
      "             Switzerland       6.452219       4.578885\n",
      "                   Chile       2.299125       4.714020\n",
      "                   China       1.914543       7.230985\n",
      "           Cote d'Ivoire       0.227256       0.432123\n",
      "                Cameroon       0.246178       0.373279\n",
      "        Congo, Dem. Rep.       0.091876       0.035013\n",
      "             Congo, Rep.       1.357808       1.058563\n",
      "                Colombia       1.472091       1.533229\n",
      "                 Comoros       0.170069       0.344027\n",
      "              Cabo Verde       0.295899       1.097676\n",
      "              Costa Rica       0.920038       1.668702\n",
      "                    Cuba       3.361333       2.314085\n",
      "          Cayman Islands       8.870000       2.310000\n",
      "                  Cyprus       5.987352       6.230000\n",
      "          Czech Republic      14.535453       6.238954\n",
      "                 Germany      12.026609       8.858294\n",
      "                Djibouti       0.457322       0.444868\n",
      "                Dominica       0.852006       2.378953\n",
      "                 Denmark      10.132390       5.746768\n",
      "      Dominican Republic       1.101845       2.240060\n",
      "                 Algeria       2.443430       3.825638\n",
      "                 Ecuador       1.507194       2.296645\n",
      "        Egypt, Arab Rep.       1.563210       2.511650\n",
      "                 Eritrea       0.194898       0.210965\n",
      "                   Spain       5.530353       5.654254\n",
      "                 Estonia      22.483166      12.684228\n",
      "                Ethiopia       0.048238       0.148684\n",
      "                 Finland      10.941694       7.810154\n",
      "                  Mexico       3.211460       3.790000\n",
      "             New Zealand       6.700102       7.520000\n",
      "                    Fiji       0.947054       1.880428\n",
      "                  France       6.117208       4.749543\n",
      "           Faroe Islands       0.030000       1.614915\n",
      "   Micronesia, Fed. Sts.       1.270938       1.614915\n",
      "                   Gabon       4.318094       2.581349\n",
      "          United Kingdom       9.812990       5.555652\n",
      "                 Georgia       6.974177       2.609976\n",
      "                   Ghana       0.188855       0.584105\n",
      "               Gibraltar       4.930000       0.124352\n",
      "                  Guinea       0.157424       0.276776\n",
      "                  Gambia       0.198829       0.243913\n",
      "           Guinea-Bissau       0.174312       0.169571\n",
      "      Equaatorial Guinea       0.143134       4.595851\n",
      "                  Greece       7.416058       6.211250\n",
      "                 Grenada       1.141932       2.615582\n",
      "                  Russia      14.620000      11.370000\n",
      "               Guatemala       0.434249       1.029997\n",
      "                   Italy       7.145018       5.440000\n",
      "                   India       0.645362       1.733361\n",
      "           United States      19.407346      14.823261\n",
      "                   Qatar      26.329327      32.127990\n",
      "               Greenland       0.020000       9.690000\n",
      "            Saudi Arabia      10.558843      18.820000\n",
      "                 Somalia       0.101037       0.040000\n",
      "                  Kuwait      13.902212      23.290000\n",
      "     Trinidad and Tobago      10.768794      27.270000\n",
      "                    Oman       6.577793      15.110000\n",
      "                 Czechia      14.540000      10.230000\n",
      "             South Korea       5.777563      12.710000\n",
      "              Kazakhstan      14.512479      17.520000\n",
      "                 Iceland       7.652280      10.480000\n",
      "            Turkmenistan      12.120051      12.290000\n"
     ]
    }
   ],
   "source": [
    "print(df[['Country','Emissions1990','Emissions2017']].to_string(index=False))\n",
    "\n",
    "#print data, but dont show index values"
   ]
  },
  {
   "cell_type": "code",
   "execution_count": 10,
   "metadata": {},
   "outputs": [
    {
     "name": "stdout",
     "output_type": "stream",
     "text": [
      "    Emissions2017\n",
      "0        0.131695\n",
      "1        0.813301\n",
      "2        1.788786\n",
      "3        6.104134\n",
      "4       20.769022\n",
      "..            ...\n",
      "89      10.230000\n",
      "90      12.710000\n",
      "91      17.520000\n",
      "92      10.480000\n",
      "93      12.290000\n",
      "\n",
      "[94 rows x 1 columns]\n",
      "\n",
      " Emissions1990  Emissions2017                  Country\n",
      "      0.191745       0.131695              Afghanistan\n",
      "      0.553662       0.813301                   Angola\n",
      "      1.819542       1.788786                  Albania\n",
      "      7.521832       6.104134                  Andorra\n",
      "     30.195189      20.769022     United Arab Emirates\n",
      "      3.075541       4.071308                Argentina\n",
      "      5.610254       1.823560                  Armenia\n",
      "      0.540000       1.490000           American Samoa\n",
      "      3.358227       5.239717      Antigua and Barbuda\n",
      "     15.448488      15.818316                Australia\n",
      "      7.589364       7.486162                  Austria\n",
      "      7.453451       3.243342               Azerbaijan\n",
      "      0.031256       0.048952                  Burundi\n",
      "     10.966775       8.151096                  Belgium\n",
      "      0.066285       0.614755                    Benin\n",
      "      0.056747       0.222474             Burkina Faso\n",
      "      0.111658       0.496852               Bangladesh\n",
      "      8.443170       6.201290                 Bulgaria\n",
      "     21.656413      20.427328                  Bahrain\n",
      "      7.649467       5.684363                  Bahamas\n",
      "      5.370319       6.767051   Bosnia and Herzegovina\n",
      "      9.797487       5.921351                  Belarus\n",
      "      1.759493       1.703147                   Belize\n",
      "      8.680000       6.990000                 Bermunda\n",
      "      1.516423       2.032547                  Bolivia\n",
      "      1.328159       2.196418                   Brazil\n",
      "      3.755753       4.122573                 Barbados\n",
      "     12.600787      21.640000        Brunei Barussalam\n",
      "      0.150716       1.301030                   Bhutan\n",
      "      2.183786       3.324148                 Botswana\n",
      "      0.053443       0.047867 Central African Republic\n",
      "     15.148890      15.544571                   Canada\n",
      "      6.452219       4.578885              Switzerland\n",
      "      2.299125       4.714020                    Chile\n",
      "      1.914543       7.230985                    China\n",
      "      0.227256       0.432123            Cote d'Ivoire\n",
      "      0.246178       0.373279                 Cameroon\n",
      "      0.091876       0.035013         Congo, Dem. Rep.\n",
      "      1.357808       1.058563              Congo, Rep.\n",
      "      1.472091       1.533229                 Colombia\n",
      "      0.170069       0.344027                  Comoros\n",
      "      0.295899       1.097676               Cabo Verde\n",
      "      0.920038       1.668702               Costa Rica\n",
      "      3.361333       2.314085                     Cuba\n",
      "      8.870000       2.310000           Cayman Islands\n",
      "      5.987352       6.230000                   Cyprus\n",
      "     14.535453       6.238954           Czech Republic\n",
      "     12.026609       8.858294                  Germany\n",
      "      0.457322       0.444868                 Djibouti\n",
      "      0.852006       2.378953                 Dominica\n",
      "     10.132390       5.746768                  Denmark\n",
      "      1.101845       2.240060       Dominican Republic\n",
      "      2.443430       3.825638                  Algeria\n",
      "      1.507194       2.296645                  Ecuador\n",
      "      1.563210       2.511650         Egypt, Arab Rep.\n",
      "      0.194898       0.210965                  Eritrea\n",
      "      5.530353       5.654254                    Spain\n",
      "     22.483166      12.684228                  Estonia\n",
      "      0.048238       0.148684                 Ethiopia\n",
      "     10.941694       7.810154                  Finland\n",
      "      3.211460       3.790000                   Mexico\n",
      "      6.700102       7.520000              New Zealand\n",
      "      0.947054       1.880428                     Fiji\n",
      "      6.117208       4.749543                   France\n",
      "      0.030000       1.614915            Faroe Islands\n",
      "      1.270938       1.614915    Micronesia, Fed. Sts.\n",
      "      4.318094       2.581349                    Gabon\n",
      "      9.812990       5.555652           United Kingdom\n",
      "      6.974177       2.609976                  Georgia\n",
      "      0.188855       0.584105                    Ghana\n",
      "      4.930000       0.124352                Gibraltar\n",
      "      0.157424       0.276776                   Guinea\n",
      "      0.198829       0.243913                   Gambia\n",
      "      0.174312       0.169571            Guinea-Bissau\n",
      "      0.143134       4.595851       Equaatorial Guinea\n",
      "      7.416058       6.211250                   Greece\n",
      "      1.141932       2.615582                  Grenada\n",
      "     14.620000      11.370000                   Russia\n",
      "      0.434249       1.029997                Guatemala\n",
      "      7.145018       5.440000                    Italy\n",
      "      0.645362       1.733361                    India\n",
      "     19.407346      14.823261            United States\n",
      "     26.329327      32.127990                    Qatar\n",
      "      0.020000       9.690000                Greenland\n",
      "     10.558843      18.820000             Saudi Arabia\n",
      "      0.101037       0.040000                  Somalia\n",
      "     13.902212      23.290000                   Kuwait\n",
      "     10.768794      27.270000      Trinidad and Tobago\n",
      "      6.577793      15.110000                     Oman\n",
      "     14.540000      10.230000                  Czechia\n",
      "      5.777563      12.710000              South Korea\n",
      "     14.512479      17.520000               Kazakhstan\n",
      "      7.652280      10.480000                  Iceland\n",
      "     12.120051      12.290000             Turkmenistan\n"
     ]
    }
   ],
   "source": [
    "#print the values in the 2017 column with column header\n",
    "print(df[['Emissions2017']])\n",
    "\n",
    "print()\n",
    "\n",
    "#try 3 columns and remove the index from print statement\n",
    "print(df[['Emissions1990','Emissions2017','Country']].to_string(index=False))"
   ]
  },
  {
   "cell_type": "code",
   "execution_count": 11,
   "metadata": {},
   "outputs": [
    {
     "name": "stdout",
     "output_type": "stream",
     "text": [
      "                     Country  Emissions1990  Emissions2017\n",
      "4       United Arab Emirates      30.195189      20.769022\n",
      "82                     Qatar      26.329327      32.127990\n",
      "57                   Estonia      22.483166      12.684228\n",
      "18                   Bahrain      21.656413      20.427328\n",
      "81             United States      19.407346      14.823261\n",
      "..                       ...            ...            ...\n",
      "30  Central African Republic       0.053443       0.047867\n",
      "58                  Ethiopia       0.048238       0.148684\n",
      "12                   Burundi       0.031256       0.048952\n",
      "64             Faroe Islands       0.030000       1.614915\n",
      "83                 Greenland       0.020000       9.690000\n",
      "\n",
      "[94 rows x 3 columns]\n",
      "\n",
      "                     Country  Emissions1990  Emissions2017\n",
      "82                     Qatar      26.329327      32.127990\n",
      "87       Trinidad and Tobago      10.768794      27.270000\n",
      "86                    Kuwait      13.902212      23.290000\n",
      "27         Brunei Barussalam      12.600787      21.640000\n",
      "4       United Arab Emirates      30.195189      20.769022\n",
      "..                       ...            ...            ...\n",
      "70                 Gibraltar       4.930000       0.124352\n",
      "12                   Burundi       0.031256       0.048952\n",
      "30  Central African Republic       0.053443       0.047867\n",
      "85                   Somalia       0.101037       0.040000\n",
      "37          Congo, Dem. Rep.       0.091876       0.035013\n",
      "\n",
      "[94 rows x 3 columns]\n",
      "\n"
     ]
    }
   ],
   "source": [
    "\n",
    "#sort the values in greatest to least 1990\n",
    "print(df.sort_values(by=['Emissions1990'], ascending=False))\n",
    "\n",
    "print()\n",
    "\n",
    "#sort the values in greatest to least 2017\n",
    "print(df.sort_values(by=['Emissions2017'], ascending=False))\n",
    "\n",
    "print()"
   ]
  },
  {
   "cell_type": "code",
   "execution_count": 16,
   "metadata": {},
   "outputs": [
    {
     "name": "stdout",
     "output_type": "stream",
     "text": [
      "                 Country  Emissions1990  Emissions2017\n",
      "4   United Arab Emirates      30.195189      20.769022\n",
      "18               Bahrain      21.656413      20.427328\n",
      "57               Estonia      22.483166      12.684228\n",
      "82                 Qatar      26.329327      32.127990\n",
      "\n",
      "                 Country  Emissions1990  Emissions2017\n",
      "4   United Arab Emirates      30.195189      20.769022\n",
      "18               Bahrain      21.656413      20.427328\n",
      "27     Brunei Barussalam      12.600787      21.640000\n",
      "82                 Qatar      26.329327      32.127990\n",
      "86                Kuwait      13.902212      23.290000\n",
      "87   Trinidad and Tobago      10.768794      27.270000\n"
     ]
    }
   ],
   "source": [
    "#print only nations w >20.00 for both 1990 and 2017\n",
    "print(df[df.Emissions1990 > 20.00])\n",
    "print()\n",
    "print(df[df.Emissions2017 > 20.00])"
   ]
  },
  {
   "cell_type": "code",
   "execution_count": 22,
   "metadata": {},
   "outputs": [
    {
     "name": "stdout",
     "output_type": "stream",
     "text": [
      "------Here are the nations with the most and least CO2 Emissions in 1990------\n",
      "                Country  Emissions1990  Emissions2017\n",
      "4  United Arab Emirates      30.195189      20.769022\n",
      "\n",
      "      Country  Emissions1990  Emissions2017\n",
      "83  Greenland           0.02           9.69\n",
      "\n",
      "------Here are the nations with the most and least CO2 Emissions in 2017-----\n",
      "   Country  Emissions1990  Emissions2017\n",
      "82   Qatar      26.329327       32.12799\n",
      "\n",
      "             Country  Emissions1990  Emissions2017\n",
      "37  Congo, Dem. Rep.       0.091876       0.035013\n"
     ]
    }
   ],
   "source": [
    "#countries with the greatest and least emissions in 2017\n",
    "\n",
    "\n",
    "print(\"------Here are the nations with the most and least CO2 Emissions in 1990------\")\n",
    "print(df[df.Emissions1990 == df.Emissions1990.max()])\n",
    "print()\n",
    "print(df[df.Emissions1990 == df.Emissions1990.min()])\n",
    "print()\n",
    "\n",
    "\n",
    "print(\"------Here are the nations with the most and least CO2 Emissions in 2017-----\")\n",
    "print(df[df.Emissions2017 == df.Emissions2017.max()])\n",
    "print()\n",
    "print(df[df.Emissions2017 == df.Emissions2017.min()])"
   ]
  },
  {
   "cell_type": "code",
   "execution_count": 23,
   "metadata": {},
   "outputs": [
    {
     "name": "stdout",
     "output_type": "stream",
     "text": [
      "Average 1990 CO2 emissions per nation is 5.649072744255316 metric tons per capita\n",
      "Average 2017 CO2 emissions per nation is 5.828730248755319 metric tons per capita\n"
     ]
    }
   ],
   "source": [
    "#mean\n",
    "mean = df[\"Emissions1990\"].mean()\n",
    "print(\"Average 1990 CO2 emissions per nation is\", mean, \"metric tons per capita\")\n",
    "\n",
    "#mean\n",
    "mean = df[\"Emissions2017\"].mean()\n",
    "print(\"Average 2017 CO2 emissions per nation is\", mean, \"metric tons per capita\")"
   ]
  }
 ],
 "metadata": {
  "kernelspec": {
   "display_name": "base",
   "language": "python",
   "name": "python3"
  },
  "language_info": {
   "codemirror_mode": {
    "name": "ipython",
    "version": 3
   },
   "file_extension": ".py",
   "mimetype": "text/x-python",
   "name": "python",
   "nbconvert_exporter": "python",
   "pygments_lexer": "ipython3",
   "version": "3.9.12"
  },
  "orig_nbformat": 4,
  "vscode": {
   "interpreter": {
    "hash": "65f6bdf080211a4261ca30203f2967d5d410cd9d47d7b7e5694003092334a949"
   }
  }
 },
 "nbformat": 4,
 "nbformat_minor": 2
}
