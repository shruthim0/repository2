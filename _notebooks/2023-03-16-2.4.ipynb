{
 "cells": [
  {
   "attachments": {},
   "cell_type": "markdown",
   "metadata": {},
   "source": [
    "#  2.4 HACKS\n",
    "> Using Programs with Data is focused on SQL and database actions.  Part A focuses on SQLAlchemy and an OOP programming style,\n",
    "- toc: true"
   ]
  },
  {
   "attachments": {},
   "cell_type": "markdown",
   "metadata": {},
   "source": [
    "## Imports and Flask Objects"
   ]
  },
  {
   "cell_type": "code",
   "execution_count": 2,
   "metadata": {},
   "outputs": [],
   "source": [
    "\"\"\"\n",
    "These imports define the key objects\n",
    "\"\"\"\n",
    "\n",
    "from flask import Flask\n",
    "from flask_sqlalchemy import SQLAlchemy\n",
    "\n",
    "\"\"\"\n",
    "These object and definitions are used throughout the Jupyter Notebook.\n",
    "\"\"\"\n",
    "\n",
    "# Setup of key Flask object (app)\n",
    "app = Flask(__name__)\n",
    "# Setup SQLAlchemy object and properties for the database (db)\n",
    "database = 'sqlite:///sqlite.db'  # path and filename of database\n",
    "app.config['SQLALCHEMY_TRACK_MODIFICATIONS'] = False\n",
    "app.config['SQLALCHEMY_DATABASE_URI'] = database\n",
    "app.config['SECRET_KEY'] = 'SECRET_KEY'\n",
    "db = SQLAlchemy()\n",
    "\n",
    "\n",
    "# This belongs in place where it runs once per project\n",
    "db.init_app(app)\n"
   ]
  },
  {
   "attachments": {},
   "cell_type": "markdown",
   "metadata": {},
   "source": [
    "## Model definition"
   ]
  },
  {
   "cell_type": "code",
   "execution_count": 3,
   "metadata": {},
   "outputs": [],
   "source": [
    "\"\"\" database dependencies to support sqlite examples \"\"\"\n",
    "import datetime\n",
    "from datetime import datetime\n",
    "import json\n",
    "\n",
    "from sqlalchemy.exc import IntegrityError\n",
    "from werkzeug.security import generate_password_hash, check_password_hash\n",
    "\n",
    "\n",
    "''' Tutorial: https://www.sqlalchemy.org/library.html#tutorials, try to get into a Python shell and follow along '''\n",
    "\n",
    "# Define the User class to manage actions in the 'users' table\n",
    "# -- Object Relational Mapping (ORM) is the key concept of SQLAlchemy\n",
    "# -- a.) db.Model is like an inner layer of the onion in ORM\n",
    "# -- b.) User represents data we want to store, something that is built on db.Model\n",
    "# -- c.) SQLAlchemy ORM is layer on top of SQLAlchemy Core, then SQLAlchemy engine, SQL\n",
    "\"\"\" database dependencies to support sqliteDB examples \"\"\"\n",
    "\n",
    "# Define the Score class to manage actions in the 'score' table\n",
    "class Review(db.Model):\n",
    "    __tablename__ = 'favrecipes'\n",
    "\n",
    "    # Define the User schema with \"vars\" from object\n",
    "    id = db.Column(db.Integer, primary_key=True)\n",
    "    _recipelink = db.Column(db.String(255), unique=True, nullable=False)\n",
    "    _name = db.Column(db.String(255), unique=False, nullable=False)\n",
    "    _recipename = db.Column(db.String(255), unique=False, nullable=False)\n",
    "    _rating = db.Column(db.Integer, unique=False, nullable=False)\n",
    "    _comments = db.Column(db.String(255), unique=False, nullable=True)\n",
    "\n",
    "\n",
    "    # constructor of a User object, initializes the instance variables within object (self)\n",
    "    def __init__(self, recipelink, recipename, name, rating, comments):\n",
    "        self._recipelink = recipelink    # variables with self prefix become part of the object,\n",
    "        self._recipename = recipename\n",
    "        self._name = name \n",
    "        self._rating = rating\n",
    "        self._comments = comments\n",
    "\n",
    "    #recipelink getter\n",
    "    @property\n",
    "    def recipelink(self):\n",
    "        return self._recipelink\n",
    "    \n",
    "    #recipelink setter\n",
    "    @recipelink.setter\n",
    "    def recipelink(self, recipelink):\n",
    "        self._recipelink = recipelink\n",
    "    \n",
    "    def is_recipelink(self, recipelink):\n",
    "        return self._recipelink == recipelink\n",
    "\n",
    "    #name setter\n",
    "    @property\n",
    "    def name(self):\n",
    "        return self._name\n",
    "\n",
    "    #name getter\n",
    "    @name.setter\n",
    "    def name(self, name):\n",
    "        self._name = name\n",
    "\n",
    "    #recipename getter\n",
    "    @property\n",
    "    def recipename(self):\n",
    "        return self._recipelink\n",
    "    \n",
    "    #recipename setter\n",
    "    @recipename.setter\n",
    "    def recipename(self, recipename):\n",
    "        self._recipename = recipename\n",
    "    \n",
    "    # rating getter\n",
    "    @property\n",
    "    def rating(self):\n",
    "        return self._rating\n",
    "    \n",
    "    #rating setter\n",
    "    @rating.setter\n",
    "    def rating(self, rating):\n",
    "        self._rating = rating\n",
    "\n",
    "    #comments getter\n",
    "    @property\n",
    "    def comments(self):\n",
    "        return self._comments\n",
    "    \n",
    "    #comments setter\n",
    "    @comments.setter\n",
    "    def comments(self, comments):\n",
    "        self._comments = comments\n",
    "\n",
    "    @property\n",
    "    def __str__(self):\n",
    "        return json.dumps(self.read())\n",
    "\n",
    "    def create(self):\n",
    "        try:\n",
    "            # creates a person object from Score(db.Model) class, passes initializers\n",
    "            db.session.add(self)  # add prepares to persist person object to Users table\n",
    "            db.session.commit()  # SqlAlchemy \"unit of work pattern\" requires a manual commit\n",
    "            return self\n",
    "        except IntegrityError:\n",
    "            db.session.remove()\n",
    "            return None\n",
    "\n",
    "    # CRUD read converts self to dictionary\n",
    "    # returns dictionary\n",
    "    def read(self):\n",
    "        return {\n",
    "            \"id\": self.id,\n",
    "            \"recipelink\": self.recipelink,\n",
    "            \"recipename\": self.recipename,\n",
    "            \"name\": self.name,\n",
    "            \"rating\": self.rating,\n",
    "            \"comments\": self.comments,\n",
    "        }\n",
    "\n",
    "    # CRUD update: updates user name, password, phone\n",
    "    # returns self\n",
    "    def update(self, name=\"\", rating=\"\", comments=\"\"):\n",
    "        \"\"\"only updates values with length\"\"\"\n",
    "        if len(name) > 0:\n",
    "            self.name = name\n",
    "        if len(rating) > 0:\n",
    "            self.rating = rating\n",
    "        if len(comments) > 0:\n",
    "            self.comments = comments\n",
    "        db.session.commit()\n",
    "        return self\n",
    "\n",
    "    # CRUD delete: remove self\n",
    "    # None\n",
    "    def delete(self):\n",
    "        db.session.delete(self)\n",
    "        db.session.commit()\n",
    "        return None"
   ]
  },
  {
   "attachments": {},
   "cell_type": "markdown",
   "metadata": {},
   "source": [
    "## Initial Data"
   ]
  },
  {
   "cell_type": "code",
   "execution_count": 4,
   "metadata": {},
   "outputs": [
    {
     "name": "stdout",
     "output_type": "stream",
     "text": [
      "Records exist for recipe https://sallysbakingaddiction.com/lemon-meringue-pie/, or error.\n",
      "Records exist for recipe https://www.foodnetwork.com/recipes/food-network-kitchen/apple-pie-recipe-2011423, or error.\n",
      "Records exist for recipe https://www.loveandlemons.com/brownies-recipe/, or error.\n",
      "Records exist for recipe https://addapinch.com/the-best-chocolate-cake-recipe-ever/, or error.\n",
      "Records exist for recipe https://joyfoodsunshine.com/the-most-amazing-chocolate-chip-cookies/, or error.\n"
     ]
    }
   ],
   "source": [
    "\"\"\"Database Creation and Testing \"\"\"\n",
    "\n",
    "\n",
    "# Builds working data for testing\n",
    "def initReview():\n",
    "    with app.app_context():\n",
    "        \"\"\"Create database and tables\"\"\"\n",
    "        db.create_all()\n",
    "        \"\"\"Tester data for table\"\"\"\n",
    "        u1 = Review(recipelink='https://sallysbakingaddiction.com/lemon-meringue-pie/', recipename= \"Lemon Meringue Pie\", name='Shruthi', rating='8', comments='Really good recipe, would definitely recommend')\n",
    "        u2 = Review(recipelink='https://www.foodnetwork.com/recipes/food-network-kitchen/apple-pie-recipe-2011423', recipename= \"Apple Pie\", name='Claire', rating='8', comments='Crust was very smooth')\n",
    "        u3 = Review(recipelink='https://www.loveandlemons.com/brownies-recipe/', recipename= \"Brownies\", name='Grace', rating='9', comments='So delicious')\n",
    "        u4 = Review(recipelink='https://addapinch.com/the-best-chocolate-cake-recipe-ever/', recipename= \"Chocolate Cake\", name='Jasmine', rating='9', comments='Thought the filling was perfect')\n",
    "        u5 = Review(recipelink='https://joyfoodsunshine.com/the-most-amazing-chocolate-chip-cookies/', recipename= \"Chocolate Chip Cookies\", name='Katelyn', rating='10', comments='Really good recipe, loved')\n",
    "\n",
    "        users = [u1, u2, u3, u4, u5]\n",
    "\n",
    "        \"\"\"Builds sample user/note(s) data\"\"\"\n",
    "        for user in users:\n",
    "            try:\n",
    "                '''add user to table'''\n",
    "                object = user.create()\n",
    "                print(f\"Created new rating {object.recipelink}\")\n",
    "            except:  # error raised if object nit created\n",
    "                '''fails with bad or duplicate data'''\n",
    "                print(f\"Records exist for recipe {user.recipelink}, or error.\")\n",
    "                \n",
    "initReview()"
   ]
  },
  {
   "attachments": {},
   "cell_type": "markdown",
   "metadata": {},
   "source": [
    "## Check for credentials\n",
    "- find by recipe \n",
    "- find by name"
   ]
  },
  {
   "cell_type": "code",
   "execution_count": 5,
   "metadata": {},
   "outputs": [],
   "source": [
    "def find_by_recipelink(recipelink):\n",
    "    with app.app_context():\n",
    "        user = Review.query.filter_by(_recipelink=recipelink).first()\n",
    "    return user # returns user object\n",
    "\n",
    "# Check credentials by finding user and verify password\n",
    "def check_credentials(recipelink, name):\n",
    "    # query email and return user record\n",
    "    user = find_by_recipelink(recipelink)\n",
    "    if user == None:\n",
    "        return False\n",
    "    if (user.is_name(name)):\n",
    "        return True\n",
    "    return False\n",
    "\n",
    "def find_by_name(name):\n",
    "    with app.app_context():\n",
    "        user = Review.query.filter_by(_name=name).first()\n",
    "    return user # returns user object\n",
    "\n",
    "# Check credentials by finding user and verify password\n",
    "def check_credentials(name):\n",
    "    # query email and return user record\n",
    "    user = find_by_recipelink(name)\n",
    "    if user == None:\n",
    "        return False\n",
    "        \n",
    "#check_credentials(\"indi\", \"123qwerty\")"
   ]
  },
  {
   "attachments": {},
   "cell_type": "markdown",
   "metadata": {},
   "source": [
    "## Create"
   ]
  },
  {
   "cell_type": "code",
   "execution_count": 20,
   "metadata": {},
   "outputs": [
    {
     "name": "stdout",
     "output_type": "stream",
     "text": [
      "Someone has already entered this {name}\n"
     ]
    }
   ],
   "source": [
    "def create():\n",
    "    # optimize user time to see if uid exists\n",
    "    recipelink = input(\"Enter your recipe link:\")\n",
    "    recipelink = find_by_recipelink(recipelink)\n",
    "    try:\n",
    "        print(\"Found\\n\", user.read())\n",
    "        return\n",
    "    except:\n",
    "        pass # keep going\n",
    "    \n",
    "    # request value that ensure creating valid object\n",
    "    name = input(\"Enter YOUR name:\")\n",
    "    recipename = input(\"Enter your recipe name:\")\n",
    "    comments = input(\"Enter any comments you have about this recipe:\")\n",
    "    rating = input(\"Rate this recipe 1-10\")\n",
    "    \n",
    "    # Initialize User object \n",
    "    user = Review(name=name,\n",
    "                recipelink=recipelink,\n",
    "                recipename=recipename, \n",
    "                comments=comments,\n",
    "                rating=rating\n",
    "                )\n",
    "           \n",
    "    # write object to database\n",
    "    with app.app_context():\n",
    "        try:\n",
    "            object = user.create()\n",
    "            print(\"Created\\n\", object.read())\n",
    "        except:  # if link already exists\n",
    "            print(\"Someone has already entered this {name}\")  \n",
    "create()"
   ]
  },
  {
   "attachments": {},
   "cell_type": "markdown",
   "metadata": {},
   "source": [
    "## Read"
   ]
  },
  {
   "cell_type": "code",
   "execution_count": 17,
   "metadata": {},
   "outputs": [
    {
     "data": {
      "text/plain": [
       "[{'id': 2,\n",
       "  'recipelink': 'https://www.foodnetwork.com/recipes/food-network-kitchen/apple-pie-recipe-2011423',\n",
       "  'recipename': 'https://www.foodnetwork.com/recipes/food-network-kitchen/apple-pie-recipe-2011423',\n",
       "  'name': 'Claire',\n",
       "  'rating': 8,\n",
       "  'comments': 'Crust was very smooth'},\n",
       " {'id': 3,\n",
       "  'recipelink': 'https://www.loveandlemons.com/brownies-recipe/',\n",
       "  'recipename': 'https://www.loveandlemons.com/brownies-recipe/',\n",
       "  'name': 'Grace',\n",
       "  'rating': 9,\n",
       "  'comments': 'So delicious'},\n",
       " {'id': 4,\n",
       "  'recipelink': 'https://addapinch.com/the-best-chocolate-cake-recipe-ever/',\n",
       "  'recipename': 'https://addapinch.com/the-best-chocolate-cake-recipe-ever/',\n",
       "  'name': 'Jasmine',\n",
       "  'rating': 9,\n",
       "  'comments': 'Thought the filling was perfect'},\n",
       " {'id': 5,\n",
       "  'recipelink': 'https://joyfoodsunshine.com/the-most-amazing-chocolate-chip-cookies/',\n",
       "  'recipename': 'https://joyfoodsunshine.com/the-most-amazing-chocolate-chip-cookies/',\n",
       "  'name': 'Katelyn',\n",
       "  'rating': 10,\n",
       "  'comments': 'Really good recipe, loved'},\n",
       " {'id': 6,\n",
       "  'recipelink': 'https://sallysbakingaddiction.com/lemon-meringue-pie/',\n",
       "  'recipename': 'https://sallysbakingaddiction.com/lemon-meringue-pie/',\n",
       "  'name': 'Shruthi',\n",
       "  'rating': 8,\n",
       "  'comments': 'Really good recipe, would definitely recommend'},\n",
       " {'id': 7,\n",
       "  'recipelink': 'https://www.delish.com/cooking/recipe-ideas/g269/homemade-pizza-recipes/',\n",
       "  'recipename': 'https://www.delish.com/cooking/recipe-ideas/g269/homemade-pizza-recipes/',\n",
       "  'name': 'Jay',\n",
       "  'rating': 6,\n",
       "  'comments': 'Variety good'}]"
      ]
     },
     "execution_count": 17,
     "metadata": {},
     "output_type": "execute_result"
    }
   ],
   "source": [
    "def read():\n",
    "    with app.app_context():\n",
    "        table = Review.query.all()\n",
    "    json_ready = [user.read() for user in table] # \"List Comprehensions\", for each user add user.read() to list\n",
    "    return json_ready\n",
    "\n",
    "read()"
   ]
  },
  {
   "attachments": {},
   "cell_type": "markdown",
   "metadata": {},
   "source": [
    "## Update"
   ]
  },
  {
   "cell_type": "code",
   "execution_count": 27,
   "metadata": {},
   "outputs": [
    {
     "name": "stdout",
     "output_type": "stream",
     "text": [
      "Recipe link, https://www.loveandlemons.com/brownies-recipe/, has been updated with the name, Shruthi, with the rating 9, and the comments, YUM!\n"
     ]
    }
   ],
   "source": [
    "def update():\n",
    "    # optimize user time to see if uid exists\n",
    "    recipelink = input(\"Enter your recipe link:\")\n",
    "    user = find_by_recipelink(recipelink)\n",
    "\n",
    "    if user is None:\n",
    "        print(f\"User {recipelink} is not found :(\")\n",
    "        return\n",
    "\n",
    "    new_name = input(\"What is your new name: \")\n",
    "    new_rating = input(\"What is your new rating: \")\n",
    "    new_comments = input(\"What are your new comments: \")\n",
    "\n",
    "    with app.app_context():\n",
    "        try:\n",
    "            user.update(new_name, new_rating, new_comments)\n",
    "            print(f\"Recipe link, {recipelink}, has been updated with the name, {new_name}, with the rating {new_rating}, and the comments, {new_comments}\")\n",
    "        except:\n",
    "            print(f\"There was an problem in updating recipe, {recipelink}\")\n",
    "        \n",
    "update()"
   ]
  },
  {
   "attachments": {},
   "cell_type": "markdown",
   "metadata": {},
   "source": [
    "## Delete"
   ]
  },
  {
   "cell_type": "code",
   "execution_count": 22,
   "metadata": {},
   "outputs": [
    {
     "name": "stdout",
     "output_type": "stream",
     "text": [
      "Recipe, https://thestayathomechef.com/the-most-amazing-chocolate-cake/ is not found :(\n",
      "Enter a recipe link that already exists\n"
     ]
    }
   ],
   "source": [
    "# Inputs, Try/Except, and SQLAlchemy work together to build a valid database object\n",
    "def delete():\n",
    "    # optimize user time to see if uid exists\n",
    "    recipelink = input(\"Enter your recipe link:\")\n",
    "    user = find_by_recipelink(recipelink)\n",
    "\n",
    "    if user is None:\n",
    "        print(f\"Recipe, {recipelink} is not found :(\")\n",
    "\n",
    "    with app.app_context():\n",
    "        try:\n",
    "            user.delete()\n",
    "            print(f\"Recipe, {recipelink} has been deleted.\")\n",
    "        except:\n",
    "            print(\"Enter a recipe link that already exists\")        \n",
    "delete()"
   ]
  },
  {
   "attachments": {},
   "cell_type": "markdown",
   "metadata": {},
   "source": [
    "## Sqlite"
   ]
  },
  {
   "cell_type": "code",
   "execution_count": 28,
   "metadata": {},
   "outputs": [],
   "source": [
    "import sqlite3\n",
    "\n",
    "database = 'instance/sqlite.db' # this is location of database\n",
    "\n",
    "def schema():\n",
    "    \n",
    "    # Connect to the database file\n",
    "    conn = sqlite3.connect(database)\n",
    "\n",
    "    # Create a cursor object to execute SQL queries\n",
    "    cursor = conn.cursor()\n",
    "    \n",
    "    # Fetch results of Schema\n",
    "    results = cursor.execute(\"PRAGMA table_info('users')\").fetchall()\n",
    "\n",
    "    # Print the results\n",
    "    for row in results:\n",
    "        print(row)\n",
    "\n",
    "    # Close the database connection\n",
    "    conn.close()\n",
    "    \n",
    "schema()"
   ]
  },
  {
   "cell_type": "code",
   "execution_count": 29,
   "metadata": {},
   "outputs": [
    {
     "name": "stdout",
     "output_type": "stream",
     "text": [
      "(2, 'https://www.foodnetwork.com/recipes/food-network-kitchen/apple-pie-recipe-2011423', 'Claire', 'Apple Pie', 8, 'Crust was very smooth')\n",
      "(3, 'https://www.loveandlemons.com/brownies-recipe/', 'Grace', 'Brownies', 9, 'So delicious')\n",
      "(4, 'https://addapinch.com/the-best-chocolate-cake-recipe-ever/', 'Jasmine', 'Chocolate Cake', 9, 'Thought the filling was perfect')\n",
      "(5, 'https://joyfoodsunshine.com/the-most-amazing-chocolate-chip-cookies/', 'Katelyn', 'Chocolate Chip Cookies', 10, 'Really good recipe, loved')\n",
      "(6, 'https://sallysbakingaddiction.com/lemon-meringue-pie/', 'Shruthi', 'Lemon Meringue Pie', 8, 'Really good recipe, would definitely recommend')\n",
      "(7, 'https://www.delish.com/cooking/recipe-ideas/g269/homemade-pizza-recipes/', 'Jay', '75 Different Pizzas', 6, 'Variety good')\n"
     ]
    }
   ],
   "source": [
    "import sqlite3\n",
    "\n",
    "def read():\n",
    "    # Connect to the database file\n",
    "    conn = sqlite3.connect(database)\n",
    "\n",
    "    # Create a cursor object to execute SQL queries\n",
    "    cursor = conn.cursor()\n",
    "    \n",
    "    # Execute a SELECT statement to retrieve data from a table\n",
    "    results = cursor.execute('SELECT * FROM favrecipes').fetchall()\n",
    "\n",
    "    # Print the results\n",
    "    if len(results) == 0:\n",
    "        print(\"Table is empty\")\n",
    "    else:\n",
    "        for row in results:\n",
    "            print(row)\n",
    "\n",
    "    # Close the cursor and connection objects\n",
    "    cursor.close()\n",
    "    conn.close()\n",
    "    \n",
    "read()"
   ]
  },
  {
   "cell_type": "code",
   "execution_count": 31,
   "metadata": {},
   "outputs": [
    {
     "name": "stdout",
     "output_type": "stream",
     "text": [
      "A new recipe record https://cooking.nytimes.com/recipes/11823-strawberry-shortcake has been created\n"
     ]
    }
   ],
   "source": [
    "import sqlite3\n",
    "\n",
    "def create():\n",
    "    recipelink = input(\"Enter your recipe link:\")\n",
    "    recipename = input(\"Enter your recipe name:\")\n",
    "    name = input(\"Enter your name:\")\n",
    "    rating = input(\"Enter your rating:\")\n",
    "    comments = input(\"Enter your comments:\")\n",
    "    \n",
    "    # Connect to the database file\n",
    "    conn = sqlite3.connect(database)\n",
    "\n",
    "    # Create a cursor object to execute SQL commands\n",
    "    cursor = conn.cursor()\n",
    "\n",
    "    try:\n",
    "        # Execute an SQL command to insert data into a table\n",
    "        cursor.execute(\"INSERT INTO favrecipes (_recipelink, _recipename, _name, _rating, _comments) VALUES (?, ?, ?, ?, ?)\", (recipelink, recipename, name, rating, comments))\n",
    "        \n",
    "        # Commit the changes to the database\n",
    "        conn.commit()\n",
    "        print(f\"A new recipe record {recipelink} has been created\")\n",
    "                \n",
    "    except sqlite3.Error as error:\n",
    "        print(\"Error while executing the INSERT:\", error)\n",
    "\n",
    "\n",
    "    # Close the cursor and connection objects\n",
    "    cursor.close()\n",
    "    conn.close()\n",
    "    \n",
    "create()"
   ]
  },
  {
   "cell_type": "code",
   "execution_count": 33,
   "metadata": {},
   "outputs": [
    {
     "name": "stdout",
     "output_type": "stream",
     "text": [
      "The row with recipe, https://cooking.nytimes.com/recipes/11823-strawberry-shortcake the comments has been successfully updated\n"
     ]
    }
   ],
   "source": [
    "import sqlite3\n",
    "\n",
    "def update():\n",
    "    recipelink = input(\"Enter recipe link\")\n",
    "    comments = input(\"Enter new comments\")\n",
    "    if len(comments) < 2:\n",
    "        message = \"hacked\"\n",
    "        comments = '-'\n",
    "    else:\n",
    "        message = \"successfully updated\"\n",
    "\n",
    "\n",
    "    # Connect to the database file\n",
    "    conn = sqlite3.connect(database)\n",
    "\n",
    "    # Create a cursor object to execute SQL commands\n",
    "    cursor = conn.cursor()\n",
    "\n",
    "    try:\n",
    "        # Execute an SQL command to update data in a table\n",
    "        cursor.execute(\"UPDATE favrecipes SET _comments = ? WHERE _recipelink = ?\", (comments, recipelink))\n",
    "        if cursor.rowcount == 0:\n",
    "            # The uid was not found in the table\n",
    "            print(f\"Recipe, {recipelink} was not found in the table\")\n",
    "        else:\n",
    "            print(f\"The row with recipe, {recipelink} the comments has been {message}\")\n",
    "            conn.commit()\n",
    "    except sqlite3.Error as error:\n",
    "        print(\"Error while executing the UPDATE:\", error)\n",
    "        \n",
    "    \n",
    "    # Close the cursor and connection objects\n",
    "    cursor.close()\n",
    "    conn.close()\n",
    "    \n",
    "update()"
   ]
  },
  {
   "cell_type": "code",
   "execution_count": 34,
   "metadata": {},
   "outputs": [
    {
     "name": "stdout",
     "output_type": "stream",
     "text": [
      "The row with recipe, https://cooking.nytimes.com/recipes/11823-strawberry-shortcake was successfully deleted\n"
     ]
    }
   ],
   "source": [
    "import sqlite3\n",
    "\n",
    "def delete():\n",
    "    recipelink = input(\"Enter recipelink to delete\")\n",
    "\n",
    "    # Connect to the database file\n",
    "    conn = sqlite3.connect(database)\n",
    "\n",
    "    # Create a cursor object to execute SQL commands\n",
    "    cursor = conn.cursor()\n",
    "    \n",
    "    try:\n",
    "        cursor.execute(\"DELETE FROM favrecipes WHERE _recipelink = ?\", (recipelink,))\n",
    "        if cursor.rowcount == 0:\n",
    "            # The uid was not found in the table\n",
    "            print(f\"No recipe {recipelink} was found in the table\")\n",
    "        else:\n",
    "            # The uid was found in the table and the row was deleted\n",
    "            print(f\"The row with recipe, {recipelink} was successfully deleted\")\n",
    "        conn.commit()\n",
    "    except sqlite3.Error as error:\n",
    "        print(\"Error while executing the DELETE:\", error)\n",
    "        \n",
    "    # Close the cursor and connection objects\n",
    "    cursor.close()\n",
    "    conn.close()\n",
    "    \n",
    "delete()"
   ]
  },
  {
   "cell_type": "code",
   "execution_count": 35,
   "metadata": {},
   "outputs": [
    {
     "name": "stdout",
     "output_type": "stream",
     "text": [
      "(2, 'https://www.foodnetwork.com/recipes/food-network-kitchen/apple-pie-recipe-2011423', 'Claire', 'Apple Pie', 8, 'Crust was very smooth')\n",
      "(3, 'https://www.loveandlemons.com/brownies-recipe/', 'Grace', 'Brownies', 9, 'So delicious')\n",
      "(4, 'https://addapinch.com/the-best-chocolate-cake-recipe-ever/', 'Jasmine', 'Chocolate Cake', 9, 'Thought the filling was perfect')\n",
      "(5, 'https://joyfoodsunshine.com/the-most-amazing-chocolate-chip-cookies/', 'Katelyn', 'Chocolate Chip Cookies', 10, 'Really good recipe, loved')\n",
      "(6, 'https://sallysbakingaddiction.com/lemon-meringue-pie/', 'Shruthi', 'Lemon Meringue Pie', 8, 'Really good recipe, would definitely recommend')\n",
      "(7, 'https://www.delish.com/cooking/recipe-ideas/g269/homemade-pizza-recipes/', 'Jay', '75 Different Pizzas', 6, 'Variety good')\n",
      "(8, 'https://natashaskitchen.com/banana-pudding/', 'Shruthi', 'Banana Pudding', 9, 'Delicious!!!')\n"
     ]
    }
   ],
   "source": [
    "# Menu, to run other cells from one control point\n",
    "def menu():\n",
    "    operation = input(\"Enter: (C)reate (R)ead (U)pdate or (D)elete or (S)chema\")\n",
    "    if operation.lower() == 'c':\n",
    "        create()\n",
    "    elif operation.lower() == 'r':\n",
    "        read()\n",
    "    elif operation.lower() == 'u':\n",
    "        update()\n",
    "    elif operation.lower() == 'd':\n",
    "        delete()\n",
    "    elif operation.lower() == 's':\n",
    "        schema()\n",
    "    elif len(operation)==0: # Escape Key\n",
    "        return\n",
    "    else:\n",
    "        print(\"Please enter c, r, u, or d\") \n",
    "    menu() # recursion, repeat menu\n",
    "        \n",
    "try:\n",
    "    menu() # start menu\n",
    "except:\n",
    "    print(\"Perform Jupyter 'Run All' prior to starting menu\")\n",
    "\n",
    "#tested R"
   ]
  }
 ],
 "metadata": {
  "kernelspec": {
   "display_name": "base",
   "language": "python",
   "name": "python3"
  },
  "language_info": {
   "codemirror_mode": {
    "name": "ipython",
    "version": 3
   },
   "file_extension": ".py",
   "mimetype": "text/x-python",
   "name": "python",
   "nbconvert_exporter": "python",
   "pygments_lexer": "ipython3",
   "version": "3.9.12"
  },
  "orig_nbformat": 4
 },
 "nbformat": 4,
 "nbformat_minor": 2
}
