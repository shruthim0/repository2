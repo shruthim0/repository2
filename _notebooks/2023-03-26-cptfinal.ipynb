{
 "cells": [
  {
   "attachments": {},
   "cell_type": "markdown",
   "metadata": {},
   "source": [
    "#  CPT Finalization\n",
    "> finalizing project\n",
    "- toc: true"
   ]
  },
  {
   "attachments": {},
   "cell_type": "markdown",
   "metadata": {},
   "source": [
    "## Project Right Now\n",
    "\n",
    "![yayus]({{ site.baseurl }}/images/2023-03-26 (1).png)\n",
    "\n",
    "- Currently the section of my project I was planning to use for CPT, the recipe generator, only take one input and one output. I plan to expand that.\n",
    "\n",
    "- Changes\n",
    "    - Image display: when the recipe is generated, an image will be outputted as well\n",
    "    - Because I am not using the sqlite table for CPT, I need to make sure all by input cleaning is in frontend\n",
    "    - Add another field option\n",
    "        - User can either enter mood or food group\n"
   ]
  },
  {
   "cell_type": "code",
   "execution_count": null,
   "metadata": {
    "vscode": {
     "languageId": "javascript"
    }
   },
   "outputs": [],
   "source": [
    "function generateLink() {\n",
    "    const recipeLinks = [\n",
    "      \"https://www.foodnetwork.com/recipes/ina-garten/roast-chicken-recipe-1940592\",\n",
    "      \"https://www.allrecipes.com/recipe/27010/classic-beef-stroganoff/\",\n",
    "      \"https://www.epicurious.com/recipes/food/views/pork-tacos-with-pineapple-salsa-56389926\",\n",
    "      \"https://www.delish.com/uk/cooking/recipes/a31010080/chicken-alfredo-pasta-bake-recipe/\",\n",
    "      \"https://www.bbcgoodfood.com/recipes/ultimate-spaghetti-carbonara-recipe\",\n",
    "      \"https://www.simplyrecipes.com/recipes/banana_bread/\",\n",
    "      \"https://joyfoodsunshine.com/the-most-amazing-chocolate-chip-cookies/\",\n",
    "      \"https://www.abeautifulplate.com/the-best-homemade-margherita-pizza/\",\n",
    "      \"https://www.modernhoney.com/the-best-snickerdoodle-cookie-recipe/\",\n",
    "      \"https://www.allrecipes.com/recipe/82659/old-fashioned-onion-rings/\",\n",
    "      \"https://www.modernhoney.com/fettuccine-alfredo/\",\n",
    "    ];\n",
    "\n",
    "    const happy = [\n",
    "      \"https://www.foodnetwork.com/recipes/ina-garten/roast-chicken-recipe-1940592\",\n",
    "      \"https://www.allrecipes.com/recipe/27010/classic-beef-stroganoff/\",\n",
    "      \"https://www.epicurious.com/recipes/food/views/pork-tacos-with-pineapple-salsa-56389926\",\n",
    "      \"https://www.delish.com/uk/cooking/recipes/a31010080/chicken-alfredo-pasta-bake-recipe/\",\n",
    "      \"https://www.bbcgoodfood.com/recipes/ultimate-spaghetti-carbonara-recipe\",\n",
    "      \"https://www.simplyrecipes.com/recipes/banana_bread/\",\n",
    "      \"https://joyfoodsunshine.com/the-most-amazing-chocolate-chip-cookies/\",\n",
    "      \"https://www.abeautifulplate.com/the-best-homemade-margherita-pizza/\",\n",
    "      \"https://www.modernhoney.com/the-best-snickerdoodle-cookie-recipe/\",\n",
    "      \"https://www.allrecipes.com/recipe/82659/old-fashioned-onion-rings/\",\n",
    "      \"https://www.modernhoney.com/fettuccine-alfredo/\",\n",
    "    ];\n",
    "\n",
    "    const sad = [\n",
    "      \"https://www.foodnetwork.com/recipes/ina-garten/roast-chicken-recipe-1940592\",\n",
    "      \"https://www.allrecipes.com/recipe/27010/classic-beef-stroganoff/\",\n",
    "      \"https://www.epicurious.com/recipes/food/views/pork-tacos-with-pineapple-salsa-56389926\",\n",
    "      \"https://www.delish.com/uk/cooking/recipes/a31010080/chicken-alfredo-pasta-bake-recipe/\",\n",
    "      \"https://www.bbcgoodfood.com/recipes/ultimate-spaghetti-carbonara-recipe\",\n",
    "      \"https://www.simplyrecipes.com/recipes/banana_bread/\",\n",
    "      \"https://joyfoodsunshine.com/the-most-amazing-chocolate-chip-cookies/\",\n",
    "      \"https://www.abeautifulplate.com/the-best-homemade-margherita-pizza/\",\n",
    "      \"https://www.modernhoney.com/the-best-snickerdoodle-cookie-recipe/\",\n",
    "      \"https://www.allrecipes.com/recipe/82659/old-fashioned-onion-rings/\",\n",
    "      \"https://www.modernhoney.com/fettuccine-alfredo/\",\n",
    "    ];\n",
    "\n",
    "    const stressed = [\n",
    "      \"https://www.foodnetwork.com/recipes/ina-garten/roast-chicken-recipe-1940592\",\n",
    "      \"https://www.allrecipes.com/recipe/27010/classic-beef-stroganoff/\",\n",
    "      \"https://www.epicurious.com/recipes/food/views/pork-tacos-with-pineapple-salsa-56389926\",\n",
    "      \"https://www.delish.com/uk/cooking/recipes/a31010080/chicken-alfredo-pasta-bake-recipe/\",\n",
    "      \"https://www.bbcgoodfood.com/recipes/ultimate-spaghetti-carbonara-recipe\",\n",
    "      \"https://www.simplyrecipes.com/recipes/banana_bread/\",\n",
    "      \"https://joyfoodsunshine.com/the-most-amazing-chocolate-chip-cookies/\",\n",
    "      \"https://www.abeautifulplate.com/the-best-homemade-margherita-pizza/\",\n",
    "      \"https://www.modernhoney.com/the-best-snickerdoodle-cookie-recipe/\",\n",
    "      \"https://www.allrecipes.com/recipe/82659/old-fashioned-onion-rings/\",\n",
    "      \"https://www.modernhoney.com/fettuccine-alfredo/\",\n",
    "    ];\n",
    "\n",
    "    const angry = [\n",
    "      \"https://www.foodnetwork.com/recipes/ina-garten/roast-chicken-recipe-1940592\",\n",
    "      \"https://www.allrecipes.com/recipe/27010/classic-beef-stroganoff/\",\n",
    "      \"https://www.epicurious.com/recipes/food/views/pork-tacos-with-pineapple-salsa-56389926\",\n",
    "      \"https://www.delish.com/uk/cooking/recipes/a31010080/chicken-alfredo-pasta-bake-recipe/\",\n",
    "      \"https://www.bbcgoodfood.com/recipes/ultimate-spaghetti-carbonara-recipe\",\n",
    "      \"https://www.simplyrecipes.com/recipes/banana_bread/\",\n",
    "      \"https://joyfoodsunshine.com/the-most-amazing-chocolate-chip-cookies/\",\n",
    "      \"https://www.abeautifulplate.com/the-best-homemade-margherita-pizza/\",\n",
    "      \"https://www.modernhoney.com/the-best-snickerdoodle-cookie-recipe/\",\n",
    "      \"https://www.allrecipes.com/recipe/82659/old-fashioned-onion-rings/\",\n",
    "      \"https://www.modernhoney.com/fettuccine-alfredo/\",\n",
    "    ];\n",
    "\n",
    "    // Generate a  recipe link based on what emotion user picked\n",
    "    const randomLink = recipeLinks[Math.floor(Math.random() * recipeLinks.length)];\n",
    "\n",
    "    // Display the  recipe link\n",
    "    const recipeLink = document.getElementById(\"recipe-link\");\n",
    "    recipeLink.innerHTML = \"Here's a recipe perfect for your mood!---_>\"+\"<a href='\" + randomLink + \"'>\" + randomLink + \"</a>\";\n",
    "}\n"
   ]
  }
 ],
 "metadata": {
  "kernelspec": {
   "display_name": "base",
   "language": "python",
   "name": "python3"
  },
  "language_info": {
   "codemirror_mode": {
    "name": "ipython",
    "version": 3
   },
   "file_extension": ".py",
   "mimetype": "text/x-python",
   "name": "python",
   "nbconvert_exporter": "python",
   "pygments_lexer": "ipython3",
   "version": "3.9.12"
  },
  "orig_nbformat": 4
 },
 "nbformat": 4,
 "nbformat_minor": 2
}
