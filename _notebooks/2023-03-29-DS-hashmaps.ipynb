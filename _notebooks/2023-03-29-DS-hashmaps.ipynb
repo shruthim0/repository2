{
 "cells": [
  {
   "attachments": {},
   "cell_type": "markdown",
   "metadata": {},
   "source": [
    "#  Data Structures- Hashmaps, Sets, Hash Tables, Hashing and Collisions\n",
    "> Observing hashmaps with python dictionaries\n",
    "- toc: true"
   ]
  },
  {
   "attachments": {},
   "cell_type": "markdown",
   "metadata": {},
   "source": [
    "## What is a Hashtable/Hashmap?\n",
    "\n",
    "> A hashtable is a data structure that with a collection of key-value pairs, where each key maps to a value, and the keys must be unique and hashable.\n",
    "\n",
    "- In Python there is a built in hashtable known as a dictionary.\n",
    "\n",
    "> The primary purpose of a hashtable is to provide efficient lookup, insertion, and deletion operations. When an element is to be inserted into the hashtable, a hash function is used to map the key to a specific index in the underlying array that is used to store the key-value pairs. The value is then stored at that index. When searching for a value, the hash function is used again to find the index where the value is stored.\n",
    "\n",
    "> The key advantage of a hashtable over other data structures like arrays and linked lists is its average-case time complexity for lookup, insertion, and deletion operations.\n",
    "\n",
    "- The typical time complexity of a hashtable is O(1). \n"
   ]
  },
  {
   "attachments": {},
   "cell_type": "markdown",
   "metadata": {},
   "source": [
    "## What is Hashing and Collision?\n",
    "\n",
    "> Hashing is the process of mapping a given key to a value in a hash table or hashmap, using a hash function. The hash function takes the key as input and produces a hash value or hash code, which is then used to determine the index in the underlying array where the value is stored. The purpose of hashing is to provide a quick and efficient way to access data, by eliminating the need to search through an entire data structure to find a value.\n",
    "\n",
    "> However, it is possible for two different keys to map to the same hash value, resulting in a collision. When a collision occurs, there are different ways to resolve it, depending on the collision resolution strategy used.\n",
    "\n",
    "> Python's dictionary implementation is optimized to handle collisions efficiently, and the performance of the dictionary is generally very good, even in the presence of collisions. However, if the number of collisions is very high, the performance of the dictionary can degrade, so it is important to choose a good hash function that minimizes collisions when designing a Python dictionary.\n",
    "\n",
    "## What is a Set?"
   ]
  },
  {
   "cell_type": "code",
   "execution_count": 1,
   "metadata": {},
   "outputs": [
    {
     "name": "stdout",
     "output_type": "stream",
     "text": [
      "{1, 2, 3}\n"
     ]
    }
   ],
   "source": [
    "# Creating a set using set() function\n",
    "my_set = set([1, 2, 3, 2, 1])\n",
    "print(my_set)  \n",
    "\n",
    "# What do you notice in the output?\n",
    "# the output uses the same values as my_set, except removes any duplicates\n",
    "# outputs a list\n",
    "\n",
    "# Why do you think Sets are in the same tech talk as Hashmaps/Hashtables?\n",
    "# A set cannot have duplicate values, just like how the values in a hashtable must be unique\n",
    "#"
   ]
  },
  {
   "attachments": {},
   "cell_type": "markdown",
   "metadata": {},
   "source": [
    "## Dictionary Example\n",
    "\n",
    "Below are just some basic features of a dictionary. As always, documentation is always the main source for all the full capablilties. "
   ]
  },
  {
   "cell_type": "code",
   "execution_count": 2,
   "metadata": {},
   "outputs": [
    {
     "name": "stdout",
     "output_type": "stream",
     "text": [
      "{'title': 'Lover', 'artist': 'Taylor Swift', 'year': 2019, 'genre': ['Pop', 'Synth-pop'], 'tracks': {1: 'I Forgot That You Existed', 2: 'Cruel Summer', 3: 'Lover', 4: 'The Man', 5: 'The Archer', 6: 'I Think He Knows', 7: 'Miss Americana & The Heartbreak Prince', 8: 'Paper Rings', 9: 'Cornelia Street', 10: 'Death By A Thousand Cuts', 11: 'London Boy', 12: \"Soon You'll Get Better (feat. Dixie Chicks)\", 13: 'False God', 14: 'You Need To Calm Down', 15: 'Afterglow', 16: 'Me! (feat. Brendon Urie of Panic! At The Disco)', 17: \"It's Nice To Have A Friend\", 18: 'Daylight'}}\n"
     ]
    }
   ],
   "source": [
    "# Creating a dictionary with information about the album \"Lover\"\n",
    "lover_album = {\n",
    "    \"title\": \"Lover\",\n",
    "    \"artist\": \"Taylor Swift\",\n",
    "    \"year\": 2019,\n",
    "    \"genre\": [\"Pop\", \"Synth-pop\"],\n",
    "    \"tracks\": {\n",
    "        1: \"I Forgot That You Existed\",\n",
    "        2: \"Cruel Summer\",\n",
    "        3: \"Lover\",\n",
    "        4: \"The Man\",\n",
    "        5: \"The Archer\",\n",
    "        6: \"I Think He Knows\",\n",
    "        7: \"Miss Americana & The Heartbreak Prince\",\n",
    "        8: \"Paper Rings\",\n",
    "        9: \"Cornelia Street\",\n",
    "        10: \"Death By A Thousand Cuts\",\n",
    "        11: \"London Boy\",\n",
    "        12: \"Soon You'll Get Better (feat. Dixie Chicks)\",\n",
    "        13: \"False God\",\n",
    "        14: \"You Need To Calm Down\",\n",
    "        15: \"Afterglow\",\n",
    "        16: \"Me! (feat. Brendon Urie of Panic! At The Disco)\",\n",
    "        17: \"It's Nice To Have A Friend\",\n",
    "        18: \"Daylight\"\n",
    "    }\n",
    "}\n",
    "\n",
    "# What data structures do you see?\n",
    "# list-- genre\n",
    "# dictionary -- tracks\n",
    "\n",
    "# Printing the dictionary\n",
    "print(lover_album)"
   ]
  },
  {
   "cell_type": "code",
   "execution_count": 3,
   "metadata": {},
   "outputs": [
    {
     "name": "stdout",
     "output_type": "stream",
     "text": [
      "{1: 'I Forgot That You Existed', 2: 'Cruel Summer', 3: 'Lover', 4: 'The Man', 5: 'The Archer', 6: 'I Think He Knows', 7: 'Miss Americana & The Heartbreak Prince', 8: 'Paper Rings', 9: 'Cornelia Street', 10: 'Death By A Thousand Cuts', 11: 'London Boy', 12: \"Soon You'll Get Better (feat. Dixie Chicks)\", 13: 'False God', 14: 'You Need To Calm Down', 15: 'Afterglow', 16: 'Me! (feat. Brendon Urie of Panic! At The Disco)', 17: \"It's Nice To Have A Friend\", 18: 'Daylight'}\n",
      "{1: 'I Forgot That You Existed', 2: 'Cruel Summer', 3: 'Lover', 4: 'The Man', 5: 'The Archer', 6: 'I Think He Knows', 7: 'Miss Americana & The Heartbreak Prince', 8: 'Paper Rings', 9: 'Cornelia Street', 10: 'Death By A Thousand Cuts', 11: 'London Boy', 12: \"Soon You'll Get Better (feat. Dixie Chicks)\", 13: 'False God', 14: 'You Need To Calm Down', 15: 'Afterglow', 16: 'Me! (feat. Brendon Urie of Panic! At The Disco)', 17: \"It's Nice To Have A Friend\", 18: 'Daylight'}\n"
     ]
    }
   ],
   "source": [
    "# Retrieve value from dictionary with key\n",
    "print(lover_album.get('tracks'))\n",
    "# or\n",
    "print(lover_album['tracks'])"
   ]
  },
  {
   "cell_type": "code",
   "execution_count": 4,
   "metadata": {},
   "outputs": [
    {
     "name": "stdout",
     "output_type": "stream",
     "text": [
      "The Man\n",
      "The Man\n"
     ]
    }
   ],
   "source": [
    "# Retrieve value from a dictionary inside a dictionary\n",
    "print(lover_album.get('tracks')[4])\n",
    "# or\n",
    "print(lover_album['tracks'][4])"
   ]
  },
  {
   "cell_type": "code",
   "execution_count": 6,
   "metadata": {},
   "outputs": [
    {
     "name": "stdout",
     "output_type": "stream",
     "text": [
      "{'title': 'Lover', 'artist': 'Taylor Swift', 'year': 2019, 'genre': ['Pop', 'Synth-pop'], 'tracks': {1: 'I Forgot That You Existed', 2: 'Cruel Summer', 3: 'Lover', 4: 'The Man', 5: 'The Archer', 6: 'I Think He Knows', 7: 'Miss Americana & The Heartbreak Prince', 8: 'Paper Rings', 9: 'Cornelia Street', 10: 'Death By A Thousand Cuts', 11: 'London Boy', 12: \"Soon You'll Get Better (feat. Dixie Chicks)\", 13: 'False God', 14: 'You Need To Calm Down', 15: 'Afterglow', 16: 'Me! (feat. Brendon Urie of Panic! At The Disco)', 17: \"It's Nice To Have A Friend\", 18: 'Daylight'}, 'producer': {'Joel Little', 'Frank Dukes', 'Louis Bell', 'Jack Antonoff', 'Taylor Swift'}}\n"
     ]
    }
   ],
   "source": [
    "# adding a value with a new key\n",
    "lover_album[\"producer\"] = set(['Taylor Swift', 'Jack Antonoff', 'Joel Little', 'Taylor Swift', 'Louis Bell', 'Frank Dukes'])\n",
    "# What can you change to make sure there are no duplicate producers?\n",
    "# create a set using the set() function\n",
    "\n",
    "# Printing the dictionary\n",
    "print(lover_album)"
   ]
  },
  {
   "cell_type": "code",
   "execution_count": 7,
   "metadata": {},
   "outputs": [
    {
     "name": "stdout",
     "output_type": "stream",
     "text": [
      "{'title': 'Lover', 'artist': 'Taylor Swift', 'year': 2019, 'genre': ['Pop', 'Synth-pop'], 'tracks': {1: 'I Forgot That You Existed', 2: 'Cruel Summer', 3: 'Lover', 4: 'The Man', 5: 'The Archer', 6: 'I Think He Knows', 7: 'Miss Americana & The Heartbreak Prince', 8: 'Paper Rings', 9: 'Cornelia Street', 10: 'Death By A Thousand Cuts', 11: 'London Boy', 12: \"Soon You'll Get Better (feat. Dixie Chicks)\", 13: 'False God', 14: 'You Need To Calm Down', 15: 'Afterglow', 16: 'Me! (feat. Brendon Urie of Panic! At The Disco)', 17: \"It's Nice To Have A Friend\", 18: 'Daylight', 19: 'All Of The Girls You Loved Before'}, 'producer': {'Joel Little', 'Frank Dukes', 'Louis Bell', 'Jack Antonoff', 'Taylor Swift'}}\n"
     ]
    }
   ],
   "source": [
    "# Adding a an key-value pair to an existing key \n",
    "lover_album[\"tracks\"].update({19: \"All Of The Girls You Loved Before\"})\n",
    "\n",
    "# How would add an additional genre to the dictionary, like electropop? \n",
    "# \n",
    "\n",
    "# Printing the dictionary\n",
    "print(lover_album)"
   ]
  },
  {
   "cell_type": "code",
   "execution_count": 8,
   "metadata": {},
   "outputs": [
    {
     "name": "stdout",
     "output_type": "stream",
     "text": [
      "title: Lover\n",
      "artist: Taylor Swift\n",
      "year: 2019\n",
      "genre: ['Pop', 'Synth-pop']\n",
      "tracks: {1: 'I Forgot That You Existed', 2: 'Cruel Summer', 3: 'Lover', 4: 'The Man', 5: 'The Archer', 6: 'I Think He Knows', 7: 'Miss Americana & The Heartbreak Prince', 8: 'Paper Rings', 9: 'Cornelia Street', 10: 'Death By A Thousand Cuts', 11: 'London Boy', 12: \"Soon You'll Get Better (feat. Dixie Chicks)\", 13: 'False God', 14: 'You Need To Calm Down', 15: 'Afterglow', 16: 'Me! (feat. Brendon Urie of Panic! At The Disco)', 17: \"It's Nice To Have A Friend\", 18: 'Daylight', 19: 'All Of The Girls You Loved Before'}\n",
      "producer: {'Joel Little', 'Frank Dukes', 'Louis Bell', 'Jack Antonoff', 'Taylor Swift'}\n"
     ]
    }
   ],
   "source": [
    "# Print lover_album in more readable format\n",
    "for k,v in lover_album.items(): # iterate using a for loop for key and value\n",
    "    print(str(k) + \": \" + str(v))\n",
    "\n",
    "# Write your own code to print tracks in readable format\n",
    "# \n",
    "# "
   ]
  },
  {
   "cell_type": "code",
   "execution_count": 10,
   "metadata": {},
   "outputs": [
    {
     "name": "stdout",
     "output_type": "stream",
     "text": [
      "['Pop', 'Synth-pop']\n"
     ]
    }
   ],
   "source": [
    "# Using conditionals to retrieve a random song\n",
    "def search():\n",
    "    search = input(\"What would you like to know about the album?\")\n",
    "    if lover_album.get(search.lower()) == None:\n",
    "        print(\"Invalid Search\")\n",
    "    else:\n",
    "        print(lover_album.get(search.lower()))\n",
    "\n",
    "search()\n",
    "\n",
    "# This is a very basic code segment, how can you improve upon this code?\n",
    "# \n",
    "#"
   ]
  },
  {
   "attachments": {},
   "cell_type": "markdown",
   "metadata": {},
   "source": [
    "## Hacks\n",
    "\n",
    "- Answer *ALL* questions in the code segments\n",
    "- Create a venn diagram or other compare and contrast tool related to hashmaps.\n",
    "    - What are the pro and cons of using this data structure? \n",
    "    - Dictionary vs List    \n",
    "- Expand upon the code given to you, possible improvements in comments\n",
    "- Build your own album showing features of a python dictionary\n",
    "\n",
    "- For Mr. Yeung's class: Justify your favorite Taylor Swift song, answer may effect seed"
   ]
  },
  {
   "attachments": {},
   "cell_type": "markdown",
   "metadata": {},
   "source": [
    "# HACKS"
   ]
  },
  {
   "attachments": {},
   "cell_type": "markdown",
   "metadata": {},
   "source": [
    "## Venn diagam\n",
    "![venndiagram](/home/shruthim/vscode/repository2/images/dictvslist.png \"venn\")\n",
    "\n",
    "## My own dictionaries"
   ]
  },
  {
   "cell_type": "code",
   "execution_count": 9,
   "metadata": {},
   "outputs": [
    {
     "name": "stdout",
     "output_type": "stream",
     "text": [
      "Here are the albums \n",
      " 1. Thriller \n",
      " 2. Off the Wall \n",
      " 3. Bad \n",
      " \n",
      " \n",
      "Here are the songs from 1 : \n",
      " \n",
      " \n",
      "('Thriller', 'Michael Jackson', 1982, [(1, 'The Girl Is Mine'), (2, 'Billie Jean'), (3, 'The Lady in My Life'), (4, 'Baby Be Mine'), (5, 'P.Y.Y.'), (6, 'Human Nature'), (7, 'Beat It'), (8, 'Wanna Be Startin’ Somethin’')])\n",
      "Playing (2, 'Billie Jean')\n"
     ]
    }
   ],
   "source": [
    "albums = [\n",
    "    (\"Thriller\", \"Michael Jackson\", 1982,   # First album list\n",
    "     [\n",
    "         (1, \"The Girl Is Mine\"),\n",
    "         (2, \"Billie Jean\"),\n",
    "         (3, \"The Lady in My Life\"),\n",
    "         (4, \"Baby Be Mine\"),\n",
    "         (5, \"P.Y.Y.\"),\n",
    "         (6, \"Human Nature\"),\n",
    "         (7, \"Beat It\"),\n",
    "         (8, \"Wanna Be Startin’ Somethin’\"),   \n",
    "     ]\n",
    "     ),\n",
    "\n",
    "    (\"Off the Wall\", \"Michael Jackson\", 1979,   # Second album list\n",
    "     [\n",
    "         (1, \"Girlfriend\"),\n",
    "         (2, \"Workin’ Day and Night\"),\n",
    "         (3, \"Don't Stop 'Til You Get Enough\"),\n",
    "         (4, \"Burn This Disco Out\"),\n",
    "         (5, \"It's the Falling in Love\"),\n",
    "         (6, \"Off the Wall\"),\n",
    "         (7, \"Get on the Floor\"),\n",
    "         (8, \"She’s Out of My Life\"),\n",
    "         (9, \"Get on the Floor\"),\n",
    "         (10, \"Rock With You\"),\n",
    "     ]\n",
    "     ),\n",
    "\n",
    "    (\"Bad\", \"Michael Jackson\", 1987,\n",
    "     [\n",
    "         (1, \"I Just Can't Stop Loving You\"),\n",
    "         (2, \"Another Part of Me\"),\n",
    "         (3, \"Speed Demon\"),\n",
    "         (4, \"Man in the Mirror\"),\n",
    "         (5, \"Liberian Girl\"),\n",
    "         (6, \"Just Good Friends\"),\n",
    "         (7, \"Leave Me Alone\"),\n",
    "         (8, \"Bad\"),\n",
    "         (9, \"Dirty Diana\"),\n",
    "         (10, \"The Way You Make Me Feel\"),\n",
    "         (11, \"Smooth Criminal\"),\n",
    "     ]\n",
    "     ),\n",
    "\n",
    "]\n",
    "\n",
    "print(\"Here are the albums \\n 1. Thriller \\n 2. Off the Wall \\n 3. Bad \\n \\n \")\n",
    "album = int(input(\"Choose an album enter its corresponding number\"))\n",
    "print(\"Here are the songs from\" , album, \": \\n \\n \")\n",
    "print(albums[album-1])\n",
    "song = int(input(\"Choose a song from your chosen album\"))\n",
    "\n",
    "print(\"Playing\" , albums[album - 1][3][song - 1])"
   ]
  },
  {
   "attachments": {},
   "cell_type": "markdown",
   "metadata": {},
   "source": [
    "## Midnights Album"
   ]
  },
  {
   "cell_type": "code",
   "execution_count": 3,
   "metadata": {},
   "outputs": [
    {
     "name": "stdout",
     "output_type": "stream",
     "text": [
      "{'title': 'Midnights', 'artist': 'Taylor Swift', 'year': 2022, 'genre': ['Alternative/Indie', 'Synth-pop', 'Holiday', 'Pop'], 'tracks': {1: ['Lavender Haze', 'Meet me at midnight'], 2: ['Maroon', 'When the morning came we were cleaning incense off your vinyl shelf'], 3: ['Anti-Hero', 'I have this thing where I get older but just never wiser'], 4: ['Snow On The Beach (feat. Lana Del Rey)', 'One night a few moons ago I'], 5: [\"You're On Your Own, Kid\", 'Summer went away, still the yearning stays'], 6: ['Midnight Rain', 'Rain, he wanted it comfortable'], 7: ['Question...?', 'I remember'], 8: ['Vigilante Shit', 'Draw the cat eye, sharp enough to kill a man'], 9: ['Bejewled', \"Baby love, I think I've been a little too kind\"], 10: ['Labyrinth', 'It only hurts this much right now'], 11: ['Karma', \"You're talking shit for the hell of it\"], 12: ['Sweet Nothing', 'I spy with my little tired eye'], 13: ['Mastermind', 'Once upon a time']}}\n"
     ]
    }
   ],
   "source": [
    "midnights_album = {\n",
    "    \"title\": \"Midnights\",\n",
    "    \"artist\": \"Taylor Swift\",\n",
    "    \"year\": 2022,\n",
    "    \"genre\": [\"Alternative/Indie\", \"Synth-pop\", \"Holiday\",\"Pop\"],\n",
    "    \"tracks\": {\n",
    "        1: [\"Lavender Haze\", \"Meet me at midnight\"],\n",
    "        2: [\"Maroon\",\"When the morning came we were cleaning incense off your vinyl shelf\"],\n",
    "        3: [\"Anti-Hero\",\"I have this thing where I get older but just never wiser\"],\n",
    "        4: [\"Snow On The Beach (feat. Lana Del Rey)\",\"One night a few moons ago I\"],\n",
    "        5: [\"You're On Your Own, Kid\",\"Summer went away, still the yearning stays\"],\n",
    "        6: [\"Midnight Rain\", \"Rain, he wanted it comfortable\"],\n",
    "        7: [\"Question...?\",\"I remember\"],\n",
    "        8: [\"Vigilante Shit\", \"Draw the cat eye, sharp enough to kill a man\"],\n",
    "        9: [\"Bejewled\",\"Baby love, I think I've been a little too kind\"],\n",
    "        10: [\"Labyrinth\", \"It only hurts this much right now\"],\n",
    "        11: [\"Karma\",\"You're talking shit for the hell of it\"],\n",
    "        12: [\"Sweet Nothing\", \"I spy with my little tired eye\"],\n",
    "        13: [\"Mastermind\",\"Once upon a time\"]\n",
    "    }\n",
    "}\n",
    "\n",
    "# What data structures do you see?\n",
    "# list-- genre\n",
    "# dictionary -- tracks\n",
    "\n",
    "# Printing the dictionary\n",
    "print(midnights_album)"
   ]
  },
  {
   "cell_type": "code",
   "execution_count": 13,
   "metadata": {},
   "outputs": [
    {
     "name": "stdout",
     "output_type": "stream",
     "text": [
      "Song #1: Lavender Haze\n",
      "     First lyric: 'Meet me at midnight'\n",
      "     Genres ['Alternative/Indie', 'Synth-pop', 'Holiday', 'Pop']\n",
      "Song #2: Maroon\n",
      "     First lyric: 'When the morning came we were cleaning incense off your vinyl shelf'\n",
      "     Genres ['Alternative/Indie', 'Synth-pop', 'Holiday', 'Pop']\n",
      "Song #3: Anti-Hero\n",
      "     First lyric: 'I have this thing where I get older but just never wiser'\n",
      "     Genres ['Alternative/Indie', 'Synth-pop', 'Holiday', 'Pop']\n",
      "Song #4: Snow On The Beach (feat. Lana Del Rey)\n",
      "     First lyric: 'One night a few moons ago I'\n",
      "     Genres ['Alternative/Indie', 'Synth-pop', 'Holiday', 'Pop']\n",
      "Song #5: You're On Your Own, Kid\n",
      "     First lyric: 'Summer went away, still the yearning stays'\n",
      "     Genres ['Alternative/Indie', 'Synth-pop', 'Holiday', 'Pop']\n",
      "Song #6: Midnight Rain\n",
      "     First lyric: 'Rain, he wanted it comfortable'\n",
      "     Genres ['Alternative/Indie', 'Synth-pop', 'Holiday', 'Pop']\n",
      "Song #7: Question...?\n",
      "     First lyric: 'I remember'\n",
      "     Genres ['Alternative/Indie', 'Synth-pop', 'Holiday', 'Pop']\n",
      "Song #8: Vigilante Shit\n",
      "     First lyric: 'Draw the cat eye, sharp enough to kill a man'\n",
      "     Genres ['Alternative/Indie', 'Synth-pop', 'Holiday', 'Pop']\n",
      "Song #9: Bejewled\n",
      "     First lyric: 'Baby love, I think I've been a little too kind'\n",
      "     Genres ['Alternative/Indie', 'Synth-pop', 'Holiday', 'Pop']\n",
      "Song #10: Labyrinth\n",
      "     First lyric: 'It only hurts this much right now'\n",
      "     Genres ['Alternative/Indie', 'Synth-pop', 'Holiday', 'Pop']\n",
      "Song #11: Karma\n",
      "     First lyric: 'You're talking shit for the hell of it'\n",
      "     Genres ['Alternative/Indie', 'Synth-pop', 'Holiday', 'Pop']\n",
      "Song #12: Sweet Nothing\n",
      "     First lyric: 'I spy with my little tired eye'\n",
      "     Genres ['Alternative/Indie', 'Synth-pop', 'Holiday', 'Pop']\n",
      "Song #13: Mastermind\n",
      "     First lyric: 'Once upon a time'\n",
      "     Genres ['Alternative/Indie', 'Synth-pop', 'Holiday', 'Pop']\n"
     ]
    }
   ],
   "source": [
    "for i in midnights_album[\"tracks\"]:\n",
    "    print(\"Song #\" + str(i) + \": \" + midnights_album[\"tracks\"][i][0])\n",
    "    print(\"     First lyric: \" + \"'\" + str(midnights_album[\"tracks\"][i][1])+ \"'\")\n",
    "    print(\"     Genres\" , midnights_album['genre'])"
   ]
  }
 ],
 "metadata": {
  "kernelspec": {
   "display_name": "base",
   "language": "python",
   "name": "python3"
  },
  "language_info": {
   "codemirror_mode": {
    "name": "ipython",
    "version": 3
   },
   "file_extension": ".py",
   "mimetype": "text/x-python",
   "name": "python",
   "nbconvert_exporter": "python",
   "pygments_lexer": "ipython3",
   "version": "3.9.12"
  },
  "orig_nbformat": 4,
  "vscode": {
   "interpreter": {
    "hash": "bc0361caf75f44b19c844f36087d8e5be5f9b38f5e336f8f7dfa43d40cee6fd6"
   }
  }
 },
 "nbformat": 4,
 "nbformat_minor": 2
}
